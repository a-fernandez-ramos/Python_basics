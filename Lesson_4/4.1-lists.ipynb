{
 "cells": [
  {
   "cell_type": "markdown",
   "metadata": {},
   "source": [
    "## Lists\n",
    "So far, we have seen programs in which to each variable a single data structure was assigned: a string, a number or a Boolean.\n",
    "\n",
    "While it is true that this allows generating a multitude of useful programs, when it comes to making more interesting programs, it is usually necessary to group several data under a single variable.\n",
    "In Python there are several ways to do this but, undoubtedly, the most common is through sequences, being the <u>lists</u> and the <u>tuples</u> the most known. Both have many things in common and, in fact, we will see that the main difference lies in their mutability.\n",
    "\n",
    "### Creating lists\n",
    "Creating a list of data in Python is as simple as writing them in square brackets:  ```[dato1,dato2,dato3...]```. \n",
    "For instance, to create a list with the first five odd numbers just write:\n",
    "```python\n",
    "odd = [1,3,5,7,9]\n",
    "```\n",
    "and to store the ingredients of a delicious Spanish tortilla we write:\n",
    "```python\n",
    "tortilla = [\"huevos\",\"patatas\",\"cebollas\"]\n",
    "```\n",
    "Therefore, the lists can be used to store different types of data (integer numbers and strings in the examples). In addition, a list can contain data of different type, such as:\n",
    "```python\n",
    " student = [\"Light Yagami\",17,9.90,True]\n",
    "```\n",
    "that can serve us to store varied information of a student. For example, the first item in the list is a $string$ that tells us the name of the student, the second is a $integer$ with his age, the third one is a $floating$ with his average grade, and the fourth a $Boolean$ indicating whether or not he likes programming (although this element was unnecessary, since all students are passionate about the subject)."
   ]
  },
  {
   "cell_type": "markdown",
   "metadata": {},
   "source": [
    "__Create a list with your personal data, name, surname, age, e-mail, etc., and print it.__"
   ]
  },
  {
   "cell_type": "code",
   "execution_count": null,
   "metadata": {},
   "outputs": [],
   "source": []
  },
  {
   "cell_type": "markdown",
   "metadata": {},
   "source": [
    "A list can also contain other lists (as well as other type of objects). Thanks to this, <u>we can create matrices</u>\n",
    "$$\n",
    "\\begin{pmatrix}\n",
    " 1 & 2 \\\\\n",
    " 3 & 4\n",
    "\\end{pmatrix}\n",
    "$$\n",
    "by using a list in which each element is another list that defines the elements of each row (this is what is known as $nested$ $list$):\n",
    "```python\n",
    " matriz = [[1,2],[3,4]]\n",
    "```\n"
   ]
  },
  {
   "cell_type": "code",
   "execution_count": null,
   "metadata": {},
   "outputs": [],
   "source": []
  },
  {
   "cell_type": "markdown",
   "metadata": {},
   "source": [
    "__Write the following matrix as a list__\n",
    "$$\n",
    "\\begin{pmatrix}\n",
    " 1 & 2 & 3 \\\\\n",
    " 4 & 5 & 6 \\\\\n",
    " 7 & 8 & 9\n",
    "\\end{pmatrix}\n",
    "$$"
   ]
  },
  {
   "cell_type": "code",
   "execution_count": null,
   "metadata": {},
   "outputs": [],
   "source": []
  },
  {
   "cell_type": "markdown",
   "metadata": {},
   "source": [
    "### Picking up elements of a list\n",
    "Now that we know how to create a list that allows us to store several data in a variable, it is important to be able to access a specific data from that list. To do this, ones simply has to indicate the position of the data within the list. Let's see it with an example\n",
    "```python\n",
    "odd = [1,3,5,7,9]\n",
    "odd[0]\n",
    "odd[2]\n",
    "odd[-1]\n",
    "odd[-5]\n",
    "odd[1] * odd[2]\n",
    "```\n",
    "Two important issues: \n",
    "\n",
    "(1) Python starts numbering from 0 and not from 1. Thus, the first position of a list is the position 0, followed by position 1, position 2, etc.<br>\n",
    "(2) It is possible to indicate the position in a list starting from the end. Thus, by typing -1 we indicate want to use the first value starting from the end, just as by typing -5 we indicate want to pick up the fifth value starting from the end.<br><br>\n",
    "__Try the above examples to see how it works__:"
   ]
  },
  {
   "cell_type": "code",
   "execution_count": null,
   "metadata": {},
   "outputs": [],
   "source": []
  },
  {
   "cell_type": "markdown",
   "metadata": {},
   "source": [
    "In the case of nested lists, like the one built earlier, we can access a specific element using the square brackets twice:\n",
    "```python\n",
    "matriz = [[1,2],[3,4]]\n",
    "matriz[0]\n",
    "matriz[0][0]\n",
    "matriz[0][1]\n",
    "matriz[1][0]\n",
    "```"
   ]
  },
  {
   "cell_type": "code",
   "execution_count": null,
   "metadata": {},
   "outputs": [],
   "source": []
  },
  {
   "cell_type": "markdown",
   "metadata": {},
   "source": [
    "In addition, not only elements of a list can be selected, but also fragments of it. The way to do it is by using the operator $[n:m]$, which returns part of the list, from the $n$ element to (but not including) the $m$ element, as it occurs with the ```range()``` function:\n",
    "```python\n",
    "odd = [1,3,5,7,9]\n",
    "odd[0:3]\n",
    "odd[2:3]\n",
    "odd[2:2]\n",
    "odd[2:]\n",
    "```\n",
    "Note that if $n = m$ (line 4) Python simply returns an empty list and that if $m$ is not defined, the list is selected from the $n$ position to the end, both included."
   ]
  },
  {
   "cell_type": "code",
   "execution_count": null,
   "metadata": {},
   "outputs": [],
   "source": []
  },
  {
   "cell_type": "markdown",
   "metadata": {},
   "source": [
    "This way of choosing individual elements from a list or selecting a fragment of it can also be applied to strings since, after all, a string is just a sequence of characters:\n",
    "```python\n",
    "frase = \"Me gusta este curso de Python\"\n",
    "frase[0]\n",
    "frase[3]\n",
    "frase[-3]\n",
    "frase[0]+frase[-5]\n",
    "frase[3:7]\n",
    "frase[3:3]\n",
    "```"
   ]
  },
  {
   "cell_type": "code",
   "execution_count": null,
   "metadata": {},
   "outputs": [],
   "source": []
  },
  {
   "cell_type": "markdown",
   "metadata": {},
   "source": [
    "### Modifying lists\n",
    "In Python the lists are mutable objects. This means that they can be modified after been created. For example, to add an item to a list the ```append(element)``` method is used:\n",
    "```python\n",
    "odd = [1,3,5,7,9]\n",
    "odd.append(11)  # inserts 11 at the end\n",
    "print(odd)\n",
    "```"
   ]
  },
  {
   "cell_type": "code",
   "execution_count": null,
   "metadata": {},
   "outputs": [],
   "source": []
  },
  {
   "cell_type": "markdown",
   "metadata": {},
   "source": [
    "If we want to add an element in another position,we use the ```insert(pos,element)``` method, where ```pos``` refers to the position in the list:\n",
    "```python\n",
    "odd = [1,3,5,7,9]\n",
    "odd.insert(2,11)  # insert 11 in pos=2\n",
    "print(odd)\n",
    "```"
   ]
  },
  {
   "cell_type": "code",
   "execution_count": null,
   "metadata": {},
   "outputs": [],
   "source": []
  },
  {
   "cell_type": "markdown",
   "metadata": {},
   "source": [
    "To remove items from the list, we can use: \n",
    "\n",
    "```remove(elemento)```: erases a given element\n",
    "\n",
    "```pop(pos)```. erases the element given in position ```pos```\n",
    "```python\n",
    "odd = [1,3,5,7,9]\n",
    "odd.remove(3)    # erases number 3\n",
    "print(odd)\n",
    "odd.pop(0)       # erases number in pos=0\n",
    "print(odd)\n",
    "```"
   ]
  },
  {
   "cell_type": "code",
   "execution_count": null,
   "metadata": {},
   "outputs": [],
   "source": []
  },
  {
   "cell_type": "markdown",
   "metadata": {},
   "source": [
    "Note that the ```pop(pos)``` method, in addition to removing an item from the list, pops it up, so it could be assigned to a variable:\n",
    "```python\n",
    "odd = [1,3,5,7,9]\n",
    "erase = odd.pop(0)\n",
    "print(erase)\n",
    "print(odd)\n",
    "```"
   ]
  },
  {
   "cell_type": "code",
   "execution_count": null,
   "metadata": {},
   "outputs": [],
   "source": []
  },
  {
   "cell_type": "markdown",
   "metadata": {},
   "source": [
    "Finally, the modification of one of the elements in the list can be done directly by assigning the new value to the desired position. For example:\n",
    "```python\n",
    "tortilla = [\"eggs\",\"peppers\",\"onions\"]\n",
    "print (tortilla)\n",
    "tortilla[1] = \"potatoes\"\n",
    "print (tortilla)\n",
    "```"
   ]
  },
  {
   "cell_type": "code",
   "execution_count": null,
   "metadata": {},
   "outputs": [],
   "source": []
  },
  {
   "cell_type": "markdown",
   "metadata": {},
   "source": [
    "### Operations with lists\n",
    "As in the case of strings, it is possible to perform operations with lists. With the ```+``` operator we can concatenate lists, while with the ```*``` operator we can repeat a list as many times as we want:\n",
    "```python\n",
    "a = [1,3,5,7]\n",
    "b = [2,4,6,8]\n",
    "a + b\n",
    "a * 2\n",
    "a + 2 * b\n",
    "```"
   ]
  },
  {
   "cell_type": "code",
   "execution_count": null,
   "metadata": {},
   "outputs": [],
   "source": []
  },
  {
   "cell_type": "markdown",
   "metadata": {},
   "source": [
    "In fact, with these operators we can perform the same operations as with the previous methods. For example, to add an element to a list we can do the following:\n",
    "```python\n",
    "a = [1,3,5,7]\n",
    "a = a[0:2] + [11] + a[2:]\n",
    "print(a)\n",
    "```\n",
    "This is the same as:\n",
    "```python\n",
    "a = [1,3,5,7]\n",
    "a.insert(2,11)\n",
    "print(a)\n",
    "```"
   ]
  },
  {
   "cell_type": "code",
   "execution_count": null,
   "metadata": {},
   "outputs": [],
   "source": []
  },
  {
   "cell_type": "markdown",
   "metadata": {},
   "source": [
    "The ```for-in``` statement can be used to run through all elements of a list (```for element in lst```):\n",
    "```python\n",
    "lst=[0,1,2]\n",
    "for element in lst:\n",
    "    print(element)\n",
    "```\n",
    "\n",
    "__Write a program that sums the elements of the [1,8,9,5,-3] list.__"
   ]
  },
  {
   "cell_type": "code",
   "execution_count": null,
   "metadata": {},
   "outputs": [],
   "source": []
  },
  {
   "cell_type": "markdown",
   "metadata": {},
   "source": [
    "The user can enter the numbers of a list in the following way:\n",
    "```python\n",
    "n = int(input('List''s length: '))\n",
    "lista = []\n",
    "for i in range(n):\n",
    "    lista.append(float(input('New number: ')))\n",
    "print(lista)\n",
    "```\n",
    "Notice that we need to assign $lista$ to a ```list```, which in this case initially is empty```[]```.<br>\n",
    "\n",
    "__Make a program that calculates the arithmetic mean a given number of marks.__\n",
    "\n",
    "__How would you inititate a list with zeros instead of as empty list?__"
   ]
  },
  {
   "cell_type": "code",
   "execution_count": null,
   "metadata": {},
   "outputs": [],
   "source": []
  },
  {
   "cell_type": "markdown",
   "metadata": {},
   "source": [
    "__Make a program that prints the lowest and the highest number of a list entered by the user.__"
   ]
  },
  {
   "cell_type": "code",
   "execution_count": null,
   "metadata": {},
   "outputs": [],
   "source": []
  }
 ],
 "metadata": {
  "kernelspec": {
   "display_name": "Python 3",
   "language": "python",
   "name": "python3"
  },
  "language_info": {
   "codemirror_mode": {
    "name": "ipython",
    "version": 3
   },
   "file_extension": ".py",
   "mimetype": "text/x-python",
   "name": "python",
   "nbconvert_exporter": "python",
   "pygments_lexer": "ipython3",
   "version": "3.7.4"
  }
 },
 "nbformat": 4,
 "nbformat_minor": 4
}
