{
 "cells": [
  {
   "cell_type": "markdown",
   "metadata": {},
   "source": [
    "## Tuples\n",
    "Unlike a list, a tuple is an immutable sequence of data, which means that, once created, it can not be modified. To group a set of data in a tuple, these must be written separated by commas:\n",
    "```python\n",
    "my_tuple = 8, 37, 99.9, -34.1, 0, 11\n",
    "```\n",
    "although it is common to enclose the data in parentheses:\n",
    "```python\n",
    "my_tuple = (8, 37, 99.9, -34.1, 0, 11)\n",
    "```\n",
    "As in the case of lists, you can select specific elements of the tuple by indicating its position:\n",
    "```python\n",
    "print(my_tuple[1])\n",
    "print(my_tuple[2:4])\n",
    "```"
   ]
  },
  {
   "cell_type": "code",
   "execution_count": null,
   "metadata": {},
   "outputs": [],
   "source": []
  },
  {
   "cell_type": "markdown",
   "metadata": {},
   "source": [
    "New tuples can also be created with the ```+``` and ```*``` operations:\n",
    "```python\n",
    "a = (1,3,5,7)\n",
    "b = (2,4,6,8)\n",
    "print(a + b)\n",
    "print(a * 2)\n",
    "```"
   ]
  },
  {
   "cell_type": "code",
   "execution_count": null,
   "metadata": {},
   "outputs": [],
   "source": []
  },
  {
   "cell_type": "markdown",
   "metadata": {},
   "source": [
    "However, unlike the lists, if we try to modify a tuple, Python returns an error indicating that the modification is not possible:\n",
    "```python\n",
    "a = (1,3,5,7)\n",
    "a[0] = 44\n",
    "```\n",
    "This is the error:\n",
    "```python\n",
    "---------------------------------------------------------------------------\n",
    "TypeError                                 Traceback (most recent call last)\n",
    "<ipython-input-36-21278418c66d> in <module>\n",
    "      1 a = (1,3,5,7)\n",
    "----> 2 a[0] = 44\n",
    "\n",
    "TypeError: 'tuple' object does not support item assignment\n",
    "```"
   ]
  },
  {
   "cell_type": "code",
   "execution_count": null,
   "metadata": {},
   "outputs": [],
   "source": []
  },
  {
   "cell_type": "markdown",
   "metadata": {},
   "source": [
    "But ... why should we use tuples if they are like lists, but more limited? \n",
    "\n",
    "First, because they are immutable, tuples are ideal for storing a list of data that we want to keep unaltered throughout the program. \n",
    "\n",
    "Second, tuples can be used as indexes for dictionaries, precisely because they are immutable."
   ]
  },
  {
   "cell_type": "code",
   "execution_count": null,
   "metadata": {},
   "outputs": [],
   "source": []
  },
  {
   "cell_type": "markdown",
   "metadata": {},
   "source": [
    "## Dictionaries\n",
    "Like lists and tuples, dictionaries allow storing all types of data. In lists and tuples, the position of each element is defined through a integer number. \n",
    "\n",
    "In dictionaries, this position is defined through a key, which can be any immutable object:\n",
    "an integer, a string, a tuple ... __but not a list__.\n",
    "\n",
    "Square brackets are reserved for the definition of lists:\n",
    "```python\n",
    "my_list = [item1, item2, item3]\n",
    "```\n",
    "and the parentheses (although not necessary) for the tuples\n",
    "```python\n",
    "my_tuple = (item1, item2, item3)\n",
    "```\n",
    "the <u>curly brackets are reserved to define dictionaries</u>:\n",
    "```python\n",
    "my_dict = {key1:value1, key2:value2, key3:value3}\n",
    "```"
   ]
  },
  {
   "cell_type": "markdown",
   "metadata": {},
   "source": [
    "Unlike lists and tuples, each element of a dictionary consists of two parts: a $key$ and a $value$. The function of the key is the same as that of the position in the lists and in the tuples: it is used to label a value of the dictionary.\n",
    "\n",
    "For example, to create a dictionary containing physical constants, we can type: \n",
    "```python\n",
    "constants = {'kB' : 1.3806504E-23 , \\\n",
    "              'c0' : 2.99792458E8  , \\\n",
    "              'Nav' : 6.02214179E23}\n",
    "```\n",
    "Note that ```\\``` (backslash) is used to break lines in Python and it has no relation to the dictionary keys and values.\n"
   ]
  },
  {
   "cell_type": "code",
   "execution_count": null,
   "metadata": {},
   "outputs": [],
   "source": []
  },
  {
   "cell_type": "markdown",
   "metadata": {},
   "source": [
    "In the dictionary ```constants```, we have stored the Boltzmann's constant (kB), the speed of light in the vacuum (c0) and the Avogadro's number (Nav).\n",
    "To add now a new constant to this dictionary, for example Planck's constant (h), we just have to write::\n",
    "```python\n",
    "constants['h'] = 6.62606896E-34\n",
    "print(constants)\n",
    "```"
   ]
  },
  {
   "cell_type": "code",
   "execution_count": null,
   "metadata": {},
   "outputs": [],
   "source": []
  },
  {
   "cell_type": "markdown",
   "metadata": {},
   "source": [
    "and, in the same way, to make use of a dictionary value just use the appropriate key:\n",
    "```python\n",
    "moles = 0.035\n",
    "molecules = moles * constants['Nav']\n",
    "print('We have', molecules, 'molecules')\n",
    "```"
   ]
  },
  {
   "cell_type": "code",
   "execution_count": null,
   "metadata": {},
   "outputs": [],
   "source": []
  },
  {
   "cell_type": "markdown",
   "metadata": {},
   "source": [
    "__Generate a dictionary called ```my_dictio``` composed by several elements.__"
   ]
  },
  {
   "cell_type": "code",
   "execution_count": 44,
   "metadata": {},
   "outputs": [],
   "source": []
  },
  {
   "cell_type": "markdown",
   "metadata": {},
   "source": [
    "__Now execute the lines:__\n",
    "```python\n",
    "print(my_dictio.keys())\n",
    "print(my_dictio.values())\n",
    "print(my_dictio.items())\n",
    "```"
   ]
  },
  {
   "cell_type": "code",
   "execution_count": null,
   "metadata": {},
   "outputs": [],
   "source": []
  },
  {
   "cell_type": "markdown",
   "metadata": {},
   "source": [
    "__Which type of information return these three methods?__"
   ]
  },
  {
   "cell_type": "code",
   "execution_count": null,
   "metadata": {},
   "outputs": [],
   "source": []
  },
  {
   "cell_type": "markdown",
   "metadata": {},
   "source": [
    "__Write a program that runs over all (```items```) de the dictionary, printing each item in a different line.__<br>\n",
    "\n",
    "__¿Which type of objects are the elements of a dictionary?__"
   ]
  },
  {
   "cell_type": "code",
   "execution_count": null,
   "metadata": {},
   "outputs": [],
   "source": []
  }
 ],
 "metadata": {
  "kernelspec": {
   "display_name": "Python 3",
   "language": "python",
   "name": "python3"
  },
  "language_info": {
   "codemirror_mode": {
    "name": "ipython",
    "version": 3
   },
   "file_extension": ".py",
   "mimetype": "text/x-python",
   "name": "python",
   "nbconvert_exporter": "python",
   "pygments_lexer": "ipython3",
   "version": "3.7.4"
  }
 },
 "nbformat": 4,
 "nbformat_minor": 4
}
