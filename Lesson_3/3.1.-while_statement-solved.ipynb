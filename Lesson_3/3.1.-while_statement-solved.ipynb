{
 "cells": [
  {
   "cell_type": "markdown",
   "metadata": {},
   "source": [
    "## Iteration statements: ```while```\n",
    "Iteration statements allow including a series of actions that are executed a certain number of times (loops). \n",
    "In the case of ```while```, those actions are executed while a certain condition is met. The syntax is:\n",
    "\n",
    "```python\n",
    "while condition: \n",
    "    action 1\n",
    "    action 2\n",
    "    ...\n",
    "    action n\n",
    "```\n",
    "For example, if we want to make a program that adds the numbers from 1 to 10, that is, that makes \n",
    "the summation $ s = \\sum_ {i = 1} ^ {10} i $ and that prints the result, we can use the sentence ```while```:\n",
    "\n",
    "```python\n",
    "# program that sums the first 10 numbers \n",
    "#\n",
    "s = 0\n",
    "i = 0\n",
    "while i < 10:\n",
    "   i = i + 1\n",
    "   s = s + i\n",
    "print('Sum = ',s)\n",
    "```\n"
   ]
  },
  {
   "cell_type": "code",
   "execution_count": 35,
   "metadata": {},
   "outputs": [
    {
     "name": "stdout",
     "output_type": "stream",
     "text": [
      "Sum =  55\n"
     ]
    }
   ],
   "source": [
    "# program that sums the first 10 numbers \n",
    "#\n",
    "s = 0\n",
    "i = 0\n",
    "while i < 10:\n",
    "   i = i + 1\n",
    "   s = s + i\n",
    "print('Sum = ',s)"
   ]
  },
  {
   "cell_type": "markdown",
   "metadata": {},
   "source": [
    "To understand better the program let us include a ```print()```function inside the loop:\n",
    "\n",
    "```python\n",
    "# program that sums the first 10 numbers \n",
    "#\n",
    "s = 0\n",
    "i = 0\n",
    "while i < 10:\n",
    "   i = i + 1\n",
    "   s = s + i\n",
    "   print('iteration ',i,' value of s =',s)\n",
    "print('Sum = ',s)\n",
    "```"
   ]
  },
  {
   "cell_type": "code",
   "execution_count": 1,
   "metadata": {},
   "outputs": [
    {
     "name": "stdout",
     "output_type": "stream",
     "text": [
      "iteration  1  value of s = 1\n",
      "iteration  2  value of s = 3\n",
      "iteration  3  value of s = 6\n",
      "iteration  4  value of s = 10\n",
      "iteration  5  value of s = 15\n",
      "iteration  6  value of s = 21\n",
      "iteration  7  value of s = 28\n",
      "iteration  8  value of s = 36\n",
      "iteration  9  value of s = 45\n",
      "iteration  10  value of s = 55\n",
      "Sum =  55\n"
     ]
    }
   ],
   "source": [
    "# program that sums the first 10 numbers \n",
    "#\n",
    "s = 0\n",
    "i = 0\n",
    "while i < 10:\n",
    "    i = i + 1\n",
    "    s = s + i\n",
    "    print('iteration ',i,' value of s =',s)\n",
    "print('Sum = ',s)"
   ]
  },
  {
   "cell_type": "markdown",
   "metadata": {},
   "source": [
    "*Line 3* of this program declares variable $s$ with a initial value of $0$, and then inside the loop  there is a counter over $s$.  Variable $i$ is declared in *line 4.* \n",
    "\n",
    "On *line 5* the sentence ```while``` causes the indented *lines* (*6* and *7*) to run until the Boolean \n",
    "condition $ i <10 $ is ```False```. Both, *lines 6* and *7* are counters: the counter of *line 6* adds 1 to the current value of the variable $i$ and the counter of *line 7* performs the sum.\n",
    "\n",
    "Therefore,<br> \n",
    "in the first iteration: The first time the program goes through the iterative statement. $i = 1$, $s = 1$;<br> \n",
    "in iteration number 2: $i = 2$, $s = 3$;<br>\n",
    "in iteration number 3: $i = 3$, $s = $ 6;<br> \n",
    "$ \\cdots $<br> \n",
    "in iteration number 10: $ i = 10 $, $ s = 55 $ and the logical condition $ i <10 $ is no longer fulfilled and the program executes *line 8.*\n",
    "\n",
    "Notice that the Boolean condition is $ i <10 $ and not $ i \\leq10 $ because for the latter when $i = 10$, *line 6* is still executed and now $i = 11$ that would be added to the sum, which is not correct. "
   ]
  },
  {
   "cell_type": "markdown",
   "metadata": {},
   "source": [
    "__Write the same program but with lines ```s = s + i``` and ```i = i + 1``` exchanged. \n",
    "Modify the rest of the program if needed.__"
   ]
  },
  {
   "cell_type": "code",
   "execution_count": 2,
   "metadata": {},
   "outputs": [
    {
     "name": "stdout",
     "output_type": "stream",
     "text": [
      "iteration  1  value of s = 0\n",
      "iteration  2  value of s = 1\n",
      "iteration  3  value of s = 3\n",
      "iteration  4  value of s = 6\n",
      "iteration  5  value of s = 10\n",
      "iteration  6  value of s = 15\n",
      "iteration  7  value of s = 21\n",
      "iteration  8  value of s = 28\n",
      "iteration  9  value of s = 36\n",
      "iteration  10  value of s = 45\n",
      "iteration  11  value of s = 55\n",
      "Sum =  55\n"
     ]
    }
   ],
   "source": [
    "# program that sums the first 10 numbers \n",
    "#\n",
    "s = 0\n",
    "i = 0\n",
    "while i <= 10:\n",
    "    s = s + i\n",
    "    i = i + 1\n",
    "    print('iteration ',i,' value of s =',s)\n",
    "print('Sum = ',s)"
   ]
  },
  {
   "cell_type": "markdown",
   "metadata": {},
   "source": [
    "__Using the previous program as example, make a program that adds the first 100 natural numbers from 5 to 5.__"
   ]
  },
  {
   "cell_type": "code",
   "execution_count": 4,
   "metadata": {},
   "outputs": [
    {
     "name": "stdout",
     "output_type": "stream",
     "text": [
      "Number  5  value of s = 5\n",
      "Number  10  value of s = 15\n",
      "Number  15  value of s = 30\n",
      "Number  20  value of s = 50\n",
      "Number  25  value of s = 75\n",
      "Number  30  value of s = 105\n",
      "Number  35  value of s = 140\n",
      "Number  40  value of s = 180\n",
      "Number  45  value of s = 225\n",
      "Number  50  value of s = 275\n",
      "Number  55  value of s = 330\n",
      "Number  60  value of s = 390\n",
      "Number  65  value of s = 455\n",
      "Number  70  value of s = 525\n",
      "Number  75  value of s = 600\n",
      "Number  80  value of s = 680\n",
      "Number  85  value of s = 765\n",
      "Number  90  value of s = 855\n",
      "Number  95  value of s = 950\n",
      "Number  100  value of s = 1050\n",
      "Sum =  1050\n"
     ]
    }
   ],
   "source": [
    "s = 0\n",
    "i = 0\n",
    "while i < 100:\n",
    "    i = i + 5\n",
    "    s = s + i\n",
    "    print('Number ',i,' value of s =',s)\n",
    "print('Sum = ',s)"
   ]
  },
  {
   "cell_type": "markdown",
   "metadata": {},
   "source": [
    "__Make a program that multiplies the first 4 natural numbers.__"
   ]
  },
  {
   "cell_type": "code",
   "execution_count": 8,
   "metadata": {},
   "outputs": [
    {
     "name": "stdout",
     "output_type": "stream",
     "text": [
      "Number  1  value of s = 1\n",
      "Number  2  value of s = 2\n",
      "Number  3  value of s = 6\n",
      "Number  4  value of s = 24\n",
      "Product =  24\n"
     ]
    }
   ],
   "source": [
    "s = 1\n",
    "i = 0\n",
    "while i < 4:\n",
    "    i += 1\n",
    "    s = s*i\n",
    "    print('Number ',i,' value of s =',s)\n",
    "print('Product = ',s)"
   ]
  },
  {
   "cell_type": "markdown",
   "metadata": {},
   "source": [
    "__Make a program that calculates the factorial (!) of a natural number $n$. Remember that $0!=1$ and that $n!=1\\cdot2\\cdot3\\cdot\\ldots\\cdot(n-1)\\cdot n$.__"
   ]
  },
  {
   "cell_type": "code",
   "execution_count": 16,
   "metadata": {},
   "outputs": [
    {
     "name": "stdout",
     "output_type": "stream",
     "text": [
      "Number to calculate the factorial: 5\n",
      "Number  1  value of s = 1\n",
      "Number  2  value of s = 2\n",
      "Number  3  value of s = 6\n",
      "Number  4  value of s = 24\n",
      "Number  5  value of s = 120\n",
      "Number  6  value of s = 720\n",
      "The factorial of  5  is:  720\n"
     ]
    }
   ],
   "source": [
    "# This program calculates the factorial of a number n\n",
    "n = int(input('Number to calculate the factorial: '))\n",
    "s = 1\n",
    "i = 0\n",
    "if n == 0:\n",
    "    s = 1\n",
    "else:\n",
    "    while i <= n:\n",
    "        i += 1\n",
    "        s = s*i\n",
    "        print('Number ',i,' value of s =',s)\n",
    "print('The factorial of ',n,' is: ',s)"
   ]
  },
  {
   "cell_type": "code",
   "execution_count": null,
   "metadata": {},
   "outputs": [],
   "source": [
    "Number to calculate the factorial: 0\n",
    "The factorial of  0  is:  1"
   ]
  },
  {
   "cell_type": "markdown",
   "metadata": {},
   "source": [
    "__Make a program that calculates the double factorial (!!) of a natural number $n$, where $0!!=1$.<br> \n",
    "Take into account that:<br>\n",
    "if $n$ is odd $n!!=1\\cdot3\\cdot5\\cdot\\ldots\\cdot(n-2)\\cdot n$ <br>\n",
    "if $n$ is even $n!!=2\\cdot4\\cdot6\\cdot\\ldots\\cdot(n-2)\\cdot n$.__ \n",
    "\n",
    "__In this program you shoud combine ```if```and ```while``` statements.__"
   ]
  },
  {
   "cell_type": "code",
   "execution_count": 31,
   "metadata": {},
   "outputs": [
    {
     "name": "stdout",
     "output_type": "stream",
     "text": [
      "Number to calculate the factorial: 11\n",
      "Number  1  value of s = 1\n",
      "Number  3  value of s = 3\n",
      "Number  5  value of s = 15\n",
      "Number  7  value of s = 105\n",
      "Number  9  value of s = 945\n",
      "Number  11  value of s = 10395\n",
      "The double factorial of  11  is:  10395\n"
     ]
    }
   ],
   "source": [
    "# This program calculates the double factorial of a number n\n",
    "n = int(input('Number to calculate the factorial: '))\n",
    "\n",
    "i = 0\n",
    "s = 1\n",
    "if n%2 == 0: # even number\n",
    "    i = 0\n",
    "else:\n",
    "    i = -1\n",
    "while i < n:\n",
    "    i += 2\n",
    "    s *= i\n",
    "    print('Number ',i,' value of s =',s)\n",
    "print('The double factorial of ',n,' is: ',s)"
   ]
  },
  {
   "cell_type": "code",
   "execution_count": null,
   "metadata": {},
   "outputs": [],
   "source": [
    "Number to calculate the factorial: 10\n",
    "Number  2  value of s = 2\n",
    "Number  4  value of s = 8\n",
    "Number  6  value of s = 48\n",
    "Number  8  value of s = 384\n",
    "Number  10  value of s = 3840\n",
    "The double factorial of  10  is:  3840"
   ]
  },
  {
   "cell_type": "code",
   "execution_count": null,
   "metadata": {},
   "outputs": [],
   "source": [
    "Number to calculate the factorial: 0\n",
    "The double factorial of  0  is:  1"
   ]
  },
  {
   "cell_type": "markdown",
   "metadata": {},
   "source": [
    "The loop of the examples are **counter controlled**, that is, there is a counter inside the loop that when it reaches a certain value, the logical condition is not fulfilled and the loop ends. \n",
    "\n",
    "However, it is also possible to perform a loops that is **event controlled**. In this case the loop is executed again and again until an action (the event) is triggered within the loop. This causes the loop to end. Imagine that we want to create a calculator that adds natural numbers in which the user enters a series of numbers by keyboard until a negative number is entered, which in this case indicates that the loop should end. A program of that type would be:\n",
    "\n",
    "```python\n",
    "s=0\n",
    "num = int(input('Number = '))\n",
    "while num >=0:\n",
    "   s += num\n",
    "   num = int(input('Number = '))\n",
    "print ('Total addition = ',s)\n",
    "```"
   ]
  },
  {
   "cell_type": "code",
   "execution_count": 32,
   "metadata": {},
   "outputs": [
    {
     "name": "stdout",
     "output_type": "stream",
     "text": [
      "Number = 5\n",
      "Number = 9\n",
      "Number = 18\n",
      "Number = -1\n",
      "Total addition =  32\n"
     ]
    }
   ],
   "source": [
    "s=0\n",
    "num = int(input('Number = '))\n",
    "while num >=0:\n",
    "   s += num\n",
    "   num = int(input('Number = '))\n",
    "print ('Total addition = ',s)"
   ]
  },
  {
   "cell_type": "markdown",
   "metadata": {},
   "source": [
    "## The ```break``` statement\n",
    "\n",
    "```break```allows you to stop and get out of a loop.\n",
    "Test it with the following example:\n",
    "```python\n",
    "s = 0\n",
    "loc = True\n",
    "num = int(input('Number = '))\n",
    "while loc == True:\n",
    "   if num < 0:\n",
    "      break\n",
    "   else:\n",
    "      s += num\n",
    "      num = int(input('Number = '))\n",
    "print ('Total addition = ',s)\n",
    "```"
   ]
  },
  {
   "cell_type": "code",
   "execution_count": 33,
   "metadata": {},
   "outputs": [
    {
     "name": "stdout",
     "output_type": "stream",
     "text": [
      "Number = 5\n",
      "Number = 9\n",
      "Number = 18\n",
      "Number = -1\n",
      "Total addition =  32\n"
     ]
    }
   ],
   "source": [
    "s = 0\n",
    "loc = True\n",
    "num = int(input('Number = '))\n",
    "while loc == True:\n",
    "   if num < 0:\n",
    "      break\n",
    "   else:\n",
    "      s += num\n",
    "      num = int(input('Number = '))\n",
    "print ('Total addition = ',s)"
   ]
  },
  {
   "cell_type": "markdown",
   "metadata": {},
   "source": [
    "**Which sentence could be used in the above program instead of ```break```to end the loop?**"
   ]
  },
  {
   "cell_type": "code",
   "execution_count": 34,
   "metadata": {},
   "outputs": [
    {
     "name": "stdout",
     "output_type": "stream",
     "text": [
      "Number = 5\n",
      "Number = 9\n",
      "Number = 18\n",
      "Number = -1\n",
      "Total addition =  32\n"
     ]
    }
   ],
   "source": [
    "s = 0\n",
    "loc = True\n",
    "num = int(input('Number = '))\n",
    "while loc == True:\n",
    "   if num < 0:\n",
    "      loc = False #This is line instead of break\n",
    "   else:\n",
    "      s += num\n",
    "      num = int(input('Number = '))\n",
    "print ('Total addition = ',s)"
   ]
  }
 ],
 "metadata": {
  "kernelspec": {
   "display_name": "Python 3",
   "language": "python",
   "name": "python3"
  },
  "language_info": {
   "codemirror_mode": {
    "name": "ipython",
    "version": 3
   },
   "file_extension": ".py",
   "mimetype": "text/x-python",
   "name": "python",
   "nbconvert_exporter": "python",
   "pygments_lexer": "ipython3",
   "version": "3.7.4"
  }
 },
 "nbformat": 4,
 "nbformat_minor": 4
}
