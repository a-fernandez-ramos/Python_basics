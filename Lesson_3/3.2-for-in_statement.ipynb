{
 "cells": [
  {
   "cell_type": "markdown",
   "metadata": {},
   "source": [
    "## Iteration statements: ```for-in```\n",
    "\n",
    "Loops ```for-in``` are used when we want to perform certain actions a certain number of times. \n",
    "These loops already have a built-in counter using the ```range()``` function, so they are easier to use than ```while``` loops. \n",
    "\n",
    "For example, the program that adds the first 10 numbers with the sentence ```for-in``` is:\n",
    "\n",
    "```python\n",
    "s = 0\n",
    "for i in range(1,10):\n",
    "  s = s + i\n",
    "print('Total addition = ',s)\n",
    "```"
   ]
  },
  {
   "cell_type": "code",
   "execution_count": null,
   "metadata": {},
   "outputs": [],
   "source": []
  },
  {
   "cell_type": "markdown",
   "metadata": {},
   "source": [
    "The above program presents some new things: \n",
    "\n",
    "*Line 1:* the summation is initialized<br> \n",
    "*Line 2:* begins the loop ```for-in``` in which the variable $i$ acts as a <u>counter</u> with the limits specified by the ```range()``` function.<br>\n",
    "*Line 3:* is the only action within the loop and adds to the variable $s$ the value of the variable $i$. \n",
    "\n",
    "The input parameters of the ```range( )``` function are:\n",
    "```python\n",
    "range([start,] stop [,step])\n",
    "```\n",
    "where ```[]``` indicates that the parameter has a value by default.<br> \n",
    "```start``` is a number that initiates the sequence and it is <u>zero by default</u>;<br> \n",
    "```stop``` is the number that ends the sequence, but <u> the last number is not included</u>; and<br>\n",
    "```step``` is the difference between each number in the sequence and <u>by default is unity.</u> \n",
    "\n",
    "These three numbers have to be integers, although if they are not specified, ```start``` and ```step``` take their default values. Therefore, in the program that adds the first 10 numbers, the sentence\n",
    "```python\n",
    "for i in range(1,11):\n",
    "```\n",
    "is equivalent to:\n",
    "```python\n",
    "for i in range(11):\n",
    "```\n",
    "because ```i = 0``` does not contribute to the sum. It is also equivalent to:\n",
    "```python\n",
    "for i in range(1,11,1):\n",
    "```"
   ]
  },
  {
   "cell_type": "code",
   "execution_count": null,
   "metadata": {},
   "outputs": [],
   "source": []
  },
  {
   "cell_type": "markdown",
   "metadata": {},
   "source": [
    "__Use ```for-in```to create a program that performs the factorial of a given integer $n$ number.__"
   ]
  },
  {
   "cell_type": "code",
   "execution_count": null,
   "metadata": {},
   "outputs": [],
   "source": []
  },
  {
   "cell_type": "markdown",
   "metadata": {},
   "source": [
    "Loops ```for-in``` can also be made on strings. For example the string'Hello world' has 11 characters.\n",
    "You also have to count the blank space between the two words. The loop reads them one by one.\n",
    "```python\n",
    "c = 'Hello world'\n",
    "for x in c:\n",
    "   print('Character = ',x)\n",
    "```"
   ]
  },
  {
   "cell_type": "code",
   "execution_count": null,
   "metadata": {},
   "outputs": [],
   "source": []
  },
  {
   "cell_type": "markdown",
   "metadata": {},
   "source": [
    "You can also make nested statements of multiple ```for-in``` loops or of loops and conditional statements. \n",
    "For example, a program that asks for a word and that ends when it finds a letter which we have entered through the keyboard. The program involves a ```for-in``` loop and a conditional. The program is as follows:\n",
    "\n",
    "```python\n",
    "# Checks that a letter belongs to a word\n",
    "# Prints the characters until you find\n",
    "# the letter, then exits the loop\n",
    "word = input('Enter a word: ')\n",
    "letter = input('Enter a letter: ')\n",
    "for x in word:\n",
    "   if x == letter:\n",
    "      print ('I found the letter ',letter)\n",
    "      break\n",
    "   else:\n",
    "      print ('I have not found the letter, yet')\n",
    "```\n",
    "\n",
    "This program has two nested control structures. The command ```break``` exits the loop; \n",
    "in this case when ```x == letter```. "
   ]
  },
  {
   "cell_type": "code",
   "execution_count": null,
   "metadata": {},
   "outputs": [],
   "source": []
  },
  {
   "cell_type": "markdown",
   "metadata": {},
   "source": [
    "The previous program could be done much more efficiently with a single ```if``` statement, that is,\n",
    "\n",
    "```python\n",
    "word = input('Enter a word: ')\n",
    "letter = input('Enter a letter: ')\n",
    "if letter in word: \n",
    "   print ('I found the letter ',letter)\n",
    "else: \n",
    "   print ('I have not found the letter, yet')\n",
    "```"
   ]
  },
  {
   "cell_type": "code",
   "execution_count": null,
   "metadata": {},
   "outputs": [],
   "source": []
  },
  {
   "cell_type": "markdown",
   "metadata": {},
   "source": [
    "**Make a program in which one or several sentences are introduced and the program counts how many words and how many characters (words plus blanks plus punctuation marks) there are in the text.**"
   ]
  },
  {
   "cell_type": "code",
   "execution_count": null,
   "metadata": {},
   "outputs": [],
   "source": []
  },
  {
   "cell_type": "markdown",
   "metadata": {},
   "source": [
    "__Make a program that calculates the greatest common divisor of two numbers.__"
   ]
  },
  {
   "cell_type": "code",
   "execution_count": null,
   "metadata": {},
   "outputs": [],
   "source": []
  },
  {
   "cell_type": "markdown",
   "metadata": {},
   "source": [
    "**Make a program that finds all the prime numbers up to 100.**"
   ]
  },
  {
   "cell_type": "code",
   "execution_count": null,
   "metadata": {},
   "outputs": [],
   "source": []
  },
  {
   "cell_type": "markdown",
   "metadata": {},
   "source": [
    "**Write a program in which the user enters a positive integer and prints all the numbers backwards till zero.**"
   ]
  },
  {
   "cell_type": "code",
   "execution_count": null,
   "metadata": {},
   "outputs": [],
   "source": []
  },
  {
   "cell_type": "markdown",
   "metadata": {},
   "source": [
    "**Write a program in which the user enters a word and the program reverses it.**"
   ]
  },
  {
   "cell_type": "code",
   "execution_count": null,
   "metadata": {},
   "outputs": [],
   "source": []
  }
 ],
 "metadata": {
  "kernelspec": {
   "display_name": "Python 3",
   "language": "python",
   "name": "python3"
  },
  "language_info": {
   "codemirror_mode": {
    "name": "ipython",
    "version": 3
   },
   "file_extension": ".py",
   "mimetype": "text/x-python",
   "name": "python",
   "nbconvert_exporter": "python",
   "pygments_lexer": "ipython3",
   "version": "3.7.4"
  }
 },
 "nbformat": 4,
 "nbformat_minor": 4
}
