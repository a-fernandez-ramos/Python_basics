{
 "cells": [
  {
   "cell_type": "markdown",
   "metadata": {},
   "source": [
    "# Data input and output\n",
    "\n",
    "## Keyboard input: ```input()```\n",
    "Usually, computer programs require the input of data. They are processed and returned as results that we would like \n",
    "to print on the screen or save to a file. The input/output instructions carry out these tasks. \n",
    "Python can read data from the keyboard using the ```input()``` function. For example:\n",
    "```python\n",
    "name = input('What is your name? ')\n",
    "name\n",
    "```"
   ]
  },
  {
   "cell_type": "code",
   "execution_count": null,
   "metadata": {},
   "outputs": [],
   "source": []
  },
  {
   "cell_type": "markdown",
   "metadata": {},
   "source": [
    "Look at this other example:\n",
    "```python\n",
    "age = int(input('How old are you? '))\n",
    "age\n",
    "```"
   ]
  },
  {
   "cell_type": "code",
   "execution_count": null,
   "metadata": {},
   "outputs": [],
   "source": []
  },
  {
   "cell_type": "markdown",
   "metadata": {},
   "source": [
    "__Which output returns the example below?__"
   ]
  },
  {
   "cell_type": "markdown",
   "metadata": {},
   "source": [
    "```python\n",
    "decimal = float(input('Enter a decimal number: '))\n",
    "decimal\n",
    "```"
   ]
  },
  {
   "cell_type": "code",
   "execution_count": null,
   "metadata": {},
   "outputs": [],
   "source": []
  },
  {
   "cell_type": "markdown",
   "metadata": {},
   "source": [
    "## Screen output: ```print()```\n",
    " ```print()```. \n",
    "The function that prints data on the screen is ```print()```\n",
    "If we want to print the name and age of the previous individual, we simply write:\n",
    "```python\n",
    "print('Name :',name,'; Age: ',age)\n",
    "```"
   ]
  },
  {
   "cell_type": "code",
   "execution_count": null,
   "metadata": {},
   "outputs": [],
   "source": []
  },
  {
   "cell_type": "markdown",
   "metadata": {},
   "source": [
    "The text between quotation marks appears as it is in the screen (spaces included), \n",
    "while the variables are outside the quotation marks and separated from the rest of the text by a comma. \n",
    "In the following example, the area of a circle is calculated by entering the radius as data. \n",
    "Note that in Python comments can be entered using the ```#``` symbol (number sign or hash) or ```'''```. \n",
    "In general, it is recommended to use comments throughout the program to facilitate its comprehension.\n",
    "```python\n",
    "from math import pi\n",
    "# Calc. area of circle\n",
    "r = float(input('Radius (in cm): '))\n",
    "area = pi * r**2\n",
    "print('Area = ',area,' cm^2')\n",
    "```"
   ]
  },
  {
   "cell_type": "code",
   "execution_count": null,
   "metadata": {},
   "outputs": [],
   "source": []
  },
  {
   "cell_type": "markdown",
   "metadata": {},
   "source": [
    "__Do the same than above but now the program should calculate the area and volume of a sphere.__"
   ]
  },
  {
   "cell_type": "code",
   "execution_count": null,
   "metadata": {},
   "outputs": [],
   "source": []
  },
  {
   "cell_type": "markdown",
   "metadata": {},
   "source": [
    "__Make a program that asks for your name, phone number and DNI and print everything in a line.__"
   ]
  },
  {
   "cell_type": "code",
   "execution_count": null,
   "metadata": {},
   "outputs": [],
   "source": []
  }
 ],
 "metadata": {
  "kernelspec": {
   "display_name": "Python 3",
   "language": "python",
   "name": "python3"
  },
  "language_info": {
   "codemirror_mode": {
    "name": "ipython",
    "version": 3
   },
   "file_extension": ".py",
   "mimetype": "text/x-python",
   "name": "python",
   "nbconvert_exporter": "python",
   "pygments_lexer": "ipython3",
   "version": "3.7.4"
  }
 },
 "nbformat": 4,
 "nbformat_minor": 4
}
