{
 "cells": [
  {
   "cell_type": "markdown",
   "metadata": {},
   "source": [
    "# Control structures\n",
    "*Control structures* of a program are those that analyze variables and sentences in a program, \n",
    "in such a way that they choose the direction to go which instructions are executed and how many times. \n",
    "Control structures can alter the execution order of some parts of the program, which would otherwise be \n",
    "completely sequential (one line after another).<br>\n",
    "\n",
    "They can be divided into two large groups: *conditional* and *iteration*. \n",
    "**Conditional statements** cause a group of statements to be executed within a program, \n",
    "while **iteration statements** (also called **loops**) cause a group of statements to be executed a \n",
    "certain number of times.\n",
    "\n",
    "## Conditional sentences:\n",
    "\n",
    "### ```if```\n",
    "\n",
    "The most common conditional sentence in programming languages is ```if```, although the syntax varies \n",
    "slightly from one language to another. In Python the simplest syntax of the sentence ```if``` is:\n",
    "```python\n",
    "if condition: \n",
    "    statement(s)\n",
    "Rest of the program\n",
    "```\n",
    "\n",
    "where *condition* is the Boolean condition, which if fulfilled, causes the program to execute the statements \n",
    "that have an <u>indentation</u>  (displaced to the right) with respect to the rest of the program. \n",
    "On the other hand, Python needs to know when the Boolean condition ends, so the line ends with a colon ```:```. \n",
    "\n",
    "An example is a program that returns the absolute value of a whole number. \n",
    "Although the ```abs()``` function already exists to perform this task, it is interesting to do the \n",
    "exercise to see how the ```if``` statement works.\n",
    "\n",
    "```python\n",
    "# This program returns the absolute value\n",
    "# of an integer number\n",
    "num = int(input('Number = '))\n",
    "absnum = num\n",
    "if num < 0:\n",
    "    absnum = -num\n",
    "print ('The absolute value of  ',num,' is ',absnum)\n",
    "```\n"
   ]
  },
  {
   "cell_type": "code",
   "execution_count": null,
   "metadata": {},
   "outputs": [],
   "source": []
  },
  {
   "cell_type": "markdown",
   "metadata": {},
   "source": [
    "### ```if```...```else:```\n",
    "\n",
    "Usually, the ```if``` statement is accompanied by the ```else``` statement, so that there is a bifurcation \n",
    "in the program. If the Boolean condition that accompanies ```if``` is fulfilled, then the program does one thing \n",
    "and in other case (hence the word ```else```) does something else. The syntax is:\n",
    "```python\n",
    "if condition: \n",
    "    statement(s)\n",
    "else:\n",
    "    alternative statement(s)\n",
    "```\n",
    "\n",
    "The program that obtains the absolute value using ```else``` would be:\n",
    "\n",
    "\n",
    "```python\n",
    "'''\n",
    "programa que devuelve el valor absoluto\n",
    "de un numero entero\n",
    "'''\n",
    "num = int(input('Numero = '))\n",
    "if num < 0:\n",
    "    absnum = -num\n",
    "else:\n",
    "    absnum = num\n",
    "print('El valor absoluto de ',num,' es ',absnum)\n",
    "```"
   ]
  },
  {
   "cell_type": "markdown",
   "metadata": {},
   "source": [
    "__Make a program that when the user enters a number on the keyboard indicates if the number is even or odd.__"
   ]
  },
  {
   "cell_type": "code",
   "execution_count": null,
   "metadata": {},
   "outputs": [],
   "source": []
  },
  {
   "cell_type": "markdown",
   "metadata": {},
   "source": [
    "Control statements can be *nested*, so that an internal control statement depends in turn on an external \n",
    "control statement. For example, in the case of ```if```...```else``` a program that sorts 3 integers \n",
    "from major to minor is:\n",
    "\n",
    "```python\n",
    "'''\n",
    "program that sorts three integers\n",
    "entered by the user\n",
    "'''\n",
    "n1 = int(input('Number 1, n1 ='))\n",
    "n2 = int(input('Number 2, n2 ='))\n",
    "n3 = int(input('Number 3, n3 ='))\n",
    "greater = ' > '\n",
    "st1 = 'n1: '\n",
    "st2 = 'n2: '\n",
    "st3 = 'n3: '\n",
    "if n1 > n2 and n1 > n3:\n",
    "    if n2 > n3:\n",
    "        print (st1,n1,greater,st2,n2,greater,st3,n3) \n",
    "    else:\n",
    "        print (st1,n1,greater,st3,n3,greater,st2,n2)\n",
    "else:\n",
    "    if n2 > n1 and n2 > n3:\n",
    "        if n1 > n3:\n",
    "            print (st2,n2,greater,st1,n1,greater,st3,n3) \n",
    "        else:\n",
    "            print (st2,n2,greater,st3,n3,greater,st1,n1)\n",
    "    else:\n",
    "        if n1 > n2:\n",
    "            print (st3,n3,greater,st1,n1,greater,st2,n2) \n",
    "        else:\n",
    "            print (st3,n3,greater,st2,n2,greater,st1,n1)\n",
    "```"
   ]
  },
  {
   "cell_type": "code",
   "execution_count": null,
   "metadata": {},
   "outputs": [],
   "source": []
  },
  {
   "cell_type": "markdown",
   "metadata": {},
   "source": [
    "### ```if```...```elif```...```else:```\n",
    "\n",
    "Python has a way to link conditional control statements of  the type ```if```...```else: if```...```else```:, \n",
    "like the one showed in the previous program. It is an abbreviated form of ```else: if``` that can be \n",
    "written as ```elif```. \n",
    "Below we show that the sentence ```elif``` makes the program easier to read by the programmer.\n",
    "\n",
    "```python\n",
    "n1 = int(input('Number 1, n1 = '))\n",
    "n2 = int(input('Number 2, n2 = '))\n",
    "n3 = int(input('Number 3, n3 = '))\n",
    "greater = ' > '\n",
    "st1 = 'n1: '\n",
    "st2 = 'n2: '\n",
    "st3 = 'n3: '\n",
    "if n1 > n2 and n1 > n3:\n",
    "    if n2 > n3:\n",
    "        print (st1,n1,greater,st2,n2,greater,st3,n3) \n",
    "    else:\n",
    "        print (st1,n1,greater,st3,n3,greater,st2,n2)\n",
    "elif n2 > n1 and n2 > n3:\n",
    "    if n1 > n3:\n",
    "        print (st2,n2,greater,st1,n1,greater,st3,n3) \n",
    "    else:\n",
    "        print (st2,n2,greater,st3,n3,greater,st1,n1)\n",
    "elif n1 > n2:\n",
    "    print (st3,n3,greater,st1,n1,greater,st2,n2) \n",
    "else:\n",
    "    print (st3,n3,greater,st2,n2,greater,st1,n1)\n",
    "```\n"
   ]
  },
  {
   "cell_type": "code",
   "execution_count": null,
   "metadata": {},
   "outputs": [],
   "source": []
  },
  {
   "cell_type": "markdown",
   "metadata": {},
   "source": [
    "A program that shows if a student has passed the exam is the following:\n",
    "```python\n",
    "'''\n",
    "the user should provide the numerical mark\n",
    "'''\n",
    "mark = float(input('Exam''s mark = '))\n",
    "if mark >= 5:\n",
    "    mark = 'Aprobado'\n",
    "else:\n",
    "    mark = 'Suspenso'\n",
    "print('Your mark is ',mark) \n",
    "```"
   ]
  },
  {
   "cell_type": "code",
   "execution_count": null,
   "metadata": {},
   "outputs": [],
   "source": []
  },
  {
   "cell_type": "markdown",
   "metadata": {},
   "source": [
    "__Using as framework the previous example, create a program that includes the marks: suspenso, aprobado, notable y sobresaliente, when starting from a numerical mark provided by the user__"
   ]
  },
  {
   "cell_type": "code",
   "execution_count": null,
   "metadata": {},
   "outputs": [],
   "source": []
  },
  {
   "cell_type": "markdown",
   "metadata": {},
   "source": [
    "__Now, the user shoul enter the name of the student, the numerical mark of the exam and continuous assessment. The final mark should be the maximum of the following two marks: (1) the exam or (2) considering 30% as the continuous assessment and 70% the exam__"
   ]
  },
  {
   "cell_type": "code",
   "execution_count": null,
   "metadata": {},
   "outputs": [],
   "source": []
  },
  {
   "cell_type": "markdown",
   "metadata": {},
   "source": [
    "__Make a program in which the user enters the chains ```area``` or ```length```, and depending on the choice the program, it calculates the area or the length of a circle of a given radius.__"
   ]
  },
  {
   "cell_type": "code",
   "execution_count": null,
   "metadata": {},
   "outputs": [],
   "source": []
  },
  {
   "cell_type": "markdown",
   "metadata": {},
   "source": [
    "__Make a program that indicates if the solution of the equation $ax^{2} + bx + c = 0$ is real or imaginary. Try the following equations:__<br>\n",
    "(1) $x^2 + 2x + 1 = 0$<br>\n",
    "(2) $x^2 - 2x + 2 = 0$<br>\n",
    "(3) $2x^2 + x - 1 = 0$<br>\n",
    "(4) $4x^2 - 1 = 0$<br>\n",
    "(5) $x^2 + 4 = 0$<br> "
   ]
  },
  {
   "cell_type": "code",
   "execution_count": null,
   "metadata": {},
   "outputs": [],
   "source": []
  },
  {
   "cell_type": "markdown",
   "metadata": {},
   "source": [
    "__Make a program that solves the equation $ax^2+bx+c=0$ for any real value of $a$, $b$, and $c$. Test your program with the above equations__"
   ]
  },
  {
   "cell_type": "code",
   "execution_count": null,
   "metadata": {},
   "outputs": [],
   "source": []
  }
 ],
 "metadata": {
  "kernelspec": {
   "display_name": "Python 3",
   "language": "python",
   "name": "python3"
  },
  "language_info": {
   "codemirror_mode": {
    "name": "ipython",
    "version": 3
   },
   "file_extension": ".py",
   "mimetype": "text/x-python",
   "name": "python",
   "nbconvert_exporter": "python",
   "pygments_lexer": "ipython3",
   "version": "3.7.4"
  }
 },
 "nbformat": 4,
 "nbformat_minor": 4
}
