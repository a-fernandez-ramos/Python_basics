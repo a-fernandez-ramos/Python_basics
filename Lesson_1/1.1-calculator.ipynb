{
 "cells": [
  {
   "cell_type": "markdown",
   "metadata": {},
   "source": [
    "# Python as scientific calculator\n",
    "\n",
    "## Priority of operations\n",
    "\n",
    "Python can be used as a calculator. The priority of operations is also the same as in calculators. \n",
    "The operators that can be used in arithmetic operations are listed in the Table. \n",
    "The parenthesis  $( )$  allow changing the priority of the operators.<br>\n",
    "\n",
    "|Operator       | Symbol| Priority |\n",
    "|:----------------|:----------|-----------|\n",
    "|Exponentiation  | ```**```     |   1       |\n",
    "|Identity        | ```+```      |   2       |\n",
    "|Change of sign  | ```-```      |   2       |\n",
    "|Multiplication  | ```*```      |   3       |\n",
    "|Division        | ```/```      |   3       |\n",
    "|Integer division| ```//```     |   3       |\n",
    "|Module          | ```%```      |   3       |\n",
    "|Addition        | ```+```      |   4       |\n",
    "|Subtraction     | ```-```      |   4       |\n"
   ]
  },
  {
   "cell_type": "markdown",
   "metadata": {},
   "source": [
    "##### One should take into account that in the case of operators with the same priority, operations are started from the left side. The only case in which we begin the operations from the right side is with the exponent. Thus \n",
    "```python  \n",
    "2 ** 2 ** 3\n",
    "``` \n",
    "is the same as $2^{(2^3)}=2^8=256$ not $(2^2)^3=4^3=64$.<br><br>\n",
    "__Write in the cell below how to obtain 64.__"
   ]
  },
  {
   "cell_type": "code",
   "execution_count": null,
   "metadata": {
    "scrolled": true
   },
   "outputs": [],
   "source": []
  },
  {
   "cell_type": "markdown",
   "metadata": {},
   "source": [
    "__Try ```%``` and explain its meaning__; Notice that is related to division.<br>\n",
    "__Explain a posible use of ```%```__"
   ]
  },
  {
   "cell_type": "code",
   "execution_count": null,
   "metadata": {},
   "outputs": [],
   "source": []
  },
  {
   "cell_type": "markdown",
   "metadata": {},
   "source": [
    "__Calculate the following expressions indicating the order in which the operations are carried out:__<br>\n",
    "```2 + 3 * 4 ** 2```<br>\n",
    "```25 * 10 / 5 ** 2```<br>\n",
    "```2 * 26 % 3```<br>\n",
    "```2 + (( 3 - 4) + 8) - 4```<br>\n",
    "```+--+9```<br>\n",
    "```7 // 2 - 1```<br>\n",
    "```6 * 4 / 3 / 2```<br>\n",
    "```-2 ** 4```<br>"
   ]
  },
  {
   "cell_type": "code",
   "execution_count": null,
   "metadata": {},
   "outputs": [],
   "source": []
  },
  {
   "cell_type": "markdown",
   "metadata": {},
   "source": [
    "__Translate the expressions below to Python using the least number of parentheses:__<br>\n",
    "$2^{2+2^{3}}$<br>\n",
    "$2 - 6^{2} + (-6)^{2}$<br>\n",
    "$(16/4)^{3} - 16/2^{3}$<br>\n",
    "$\\frac{2+3}{1+5}$<br>"
   ]
  },
  {
   "cell_type": "code",
   "execution_count": null,
   "metadata": {},
   "outputs": [],
   "source": []
  },
  {
   "cell_type": "markdown",
   "metadata": {},
   "source": [
    "If you want to work with trigonometric functions, hyperbolic functions, \n",
    "square root or numbers as ```pi``` or ```e```, etc. Python uses ```math``` or ```numpy```modules. \n",
    "For instance if we want to use ```sin```, ```pi``` y ```e```, we write at the beginning of the program:\n",
    "```python\n",
    "from math import sin,pi,e\n",
    "```\n",
    "Some functions that are included in the module are:\n",
    "\n",
    "| Function    &nbsp; &nbsp;    |                     |\n",
    "|:-------------------|:--------------------------------------|\n",
    "|```log(x)```          | El logaritmo en base $e$ de $x$.     |\n",
    "|```log10(x)```   | El logaritmo en base 10 de $x$.      |\n",
    "|```sqrt(x)```    | La raiz cuadrada de $x$.             |\n",
    "|```sin(x)```          | El seno de $x$.                      |\n",
    "|```cos(x)```          | El coseno de $x$.                    |\n",
    "|```tan(x)```          | La tangente de $x$.                  |\n",
    "|```sinh(x)```         | El seno hiperbólico de $x$.          |\n",
    "|```cosh(x)```         | El coseno hiperbólico de $x$.        |\n",
    "|```tanh(x)```         | La tangente hiperbólica de $x$.      |\n",
    "|```degrees(x)``` | Convierte $x$ de radianes a grados.  |\n",
    "|```radians(x)``` | Convierte $x$ de grados a radianes.  |\n",
    "\n",
    "__Make a program that calculates the area of a cicle of radius = 2 (in arbitrary units)__"
   ]
  },
  {
   "cell_type": "code",
   "execution_count": null,
   "metadata": {},
   "outputs": [],
   "source": []
  }
 ],
 "metadata": {
  "celltoolbar": "Raw Cell Format",
  "kernelspec": {
   "display_name": "Python 3",
   "language": "python",
   "name": "python3"
  },
  "language_info": {
   "codemirror_mode": {
    "name": "ipython",
    "version": 3
   },
   "file_extension": ".py",
   "mimetype": "text/x-python",
   "name": "python",
   "nbconvert_exporter": "python",
   "pygments_lexer": "ipython3",
   "version": "3.7.4"
  }
 },
 "nbformat": 4,
 "nbformat_minor": 4
}
