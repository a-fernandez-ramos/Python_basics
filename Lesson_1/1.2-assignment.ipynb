{
 "cells": [
  {
   "cell_type": "code",
   "execution_count": null,
   "metadata": {},
   "outputs": [],
   "source": [
    "# Asignment\n",
    "\n",
    "In addition to evaluating mathematical expressions, Python allows the assignment of a given value or \n",
    "expression to a variable. The way to do it is:<br>\n",
    "\n",
    "```python\n",
    "a = 10\n",
    "b = 2\n",
    "c = a + b\n",
    "c\n",
    "```\n",
    "\n",
    "Try these lines of code in the cell below:"
   ]
  },
  {
   "cell_type": "code",
   "execution_count": null,
   "metadata": {},
   "outputs": [],
   "source": []
  },
  {
   "cell_type": "markdown",
   "metadata": {},
   "source": [
    "Each of the lines of the program that we have typed is called a <u>sentence</u> (an instruction to the computer).<br>\n",
    "In _line_ 1, we have showed an example of an assignment statement. \n",
    "Notice that $a =10$ is not a mathematical equation, specifically it does not mean that  variable $a$ is equal to 10. \n",
    "The correct way to interpret it is that number 10 is assigned to the $a$ variable.<br><br>\n",
    "__The $=$ symbol in Python indicates assignment, not equality. Mathematically, one way to write the assignment is__ $ a \\leftarrow 10 $.\n",
    "\n"
   ]
  },
  {
   "cell_type": "markdown",
   "metadata": {},
   "source": [
    "An <u>identifier</u> is the name used to call a variable. The following rules apply to name an identifier:<br><br>\n",
    "The following rules apply to name an identifier:<br>\n",
    "-It can consist of letters and/or numbers or the underscore ```_```.<br>\n",
    "-It cannot start with a number.<br>\n",
    "-It cannot have the same name as a reserved word of Python<br><br>\n",
    "__Indicate whether the following identifiers are valid and why::__<br>\n",
    "```_hola```<br>\n",
    "```1hola```<br>\n",
    "```hola```<br>\n",
    "```Hola_```<br>\n",
    "```Hola 1```<br>\n",
    "```hola_buenas_tardes```<br>\n",
    "```buenos_días```<br>\n",
    "```buenos.dias```<br>\n",
    "```1dia```<br>\n",
    "```A12345```<br>\n",
    "```A(B)C```<br>\n",
    "```___k```<br>"
   ]
  },
  {
   "cell_type": "code",
   "execution_count": null,
   "metadata": {},
   "outputs": [],
   "source": []
  },
  {
   "cell_type": "markdown",
   "metadata": {},
   "source": [
    "Usually, the name of the identifiers is related to the meaning of the variable in the problem we want to solve.\n",
    "Taking into account what we have seen so far, a program that calculates the area of a circle of 1.5 cm radius \n",
    "can easily be made:<br>\n",
    "```python\n",
    "from math import pi\n",
    "radio = 1.5\n",
    "area  = pi * radio ** 2\n",
    "area\n",
    "```\n",
    "In the example, we have used the identifiers $radius$ and $area$ to designate the radius and the area, respectively. "
   ]
  },
  {
   "cell_type": "code",
   "execution_count": null,
   "metadata": {},
   "outputs": [],
   "source": []
  },
  {
   "cell_type": "markdown",
   "metadata": {},
   "source": [
    "Sentences that are closely related to the assignment of variables and that are widely used in programming \n",
    "are the <u>counters</u>, which modify the value of a variable in a certain way. \n",
    "Thus, in the following program the value of the variable $x$ is increased by one unit:\n",
    "```python\n",
    "x = 10\n",
    "x = x + 1\n",
    "x\n",
    "```\n",
    "__Try this code in the cell below and try to understand it.__"
   ]
  },
  {
   "cell_type": "code",
   "execution_count": null,
   "metadata": {},
   "outputs": [],
   "source": []
  },
  {
   "cell_type": "markdown",
   "metadata": {},
   "source": [
    "In *line* 1 the value of 10 is assigned to the $x$ variable and in *line* 2 we assign to the $x$ variable \n",
    "the value that it had previously (that is, 10) and we add a unit to it. Therefore, the new value of $x$ is 11. \n",
    "In Python it is common to use the sentence ```x + = 1``` instead of the sentence written in *line* 2. \n",
    "Counters can also be applied in subtraction, multiplication, division and even exponentiation, as indicated below:\n",
    "```python\n",
    "x = x + 1 equivale a x += 1\n",
    "x = x - 1 equivale a x -= 1\n",
    "x = x * 1 equivale a x *= 1\n",
    "x = x / 1 equivale a x /= 1\n",
    "x = x**1  equivale a x **= 1\n",
    "```\n",
    "__1. Write a program that calculated the surface and volume of a sphere of radius equal to 3.5 cm.__<br>\n",
    "__2. Calculate the difference in volume of spheres with radius 2 and 3 cm, respectively__<br>\n",
    "__3. Calculate the area of a rectangle with sides 376 and 445 cm__<br>\n",
    "__4. Calculate the difference in area between the previous rectangle and a square of side 399 cm__<br>"
   ]
  },
  {
   "cell_type": "code",
   "execution_count": null,
   "metadata": {},
   "outputs": [],
   "source": []
  }
 ],
 "metadata": {
  "kernelspec": {
   "display_name": "Python 3",
   "language": "python",
   "name": "python3"
  },
  "language_info": {
   "codemirror_mode": {
    "name": "ipython",
    "version": 3
   },
   "file_extension": ".py",
   "mimetype": "text/x-python",
   "name": "python",
   "nbconvert_exporter": "python",
   "pygments_lexer": "ipython3",
   "version": "3.7.4"
  }
 },
 "nbformat": 4,
 "nbformat_minor": 4
}
