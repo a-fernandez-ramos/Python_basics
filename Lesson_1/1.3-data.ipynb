{
 "cells": [
  {
   "cell_type": "markdown",
   "metadata": {},
   "source": [
    "# Data types\n",
    "\n",
    "## Numerical data\n",
    "There are two types of numerical data: <u>integer</u> and <u>floating point</u> (or simply <u>floating</u>).\n",
    "\n",
    "Integers are numbers that do not have a decimal part, and the result of applying the arithmetic \n",
    "operations on these numbers is always an integer, except when we perform a division, \n",
    "which would lead to decimal numbers.\n",
    "```python\n",
    "7 / 2\n",
    "```"
   ]
  },
  {
   "cell_type": "code",
   "execution_count": null,
   "metadata": {},
   "outputs": [],
   "source": []
  },
  {
   "cell_type": "markdown",
   "metadata": {},
   "source": [
    "A floating number consists of two parts: the $mantissa$ and the $exponent$. \n",
    "The mantissa is specified by the integer part plus the fractional part, both separated by a point. \n",
    "The exponent is used in a similar way to the scientific notation of calculators; it involves adding a \n",
    "```e``` or a ```E``` at the end of the mantissa. Some correct ways to express the number 2 in floating format are: \n",
    "```python\n",
    "2.\n",
    "2.0\n",
    "2e+0\n",
    "2.e-0\n",
    "2E+0\n",
    "0.2e+1\n",
    "20e-1\n",
    "```"
   ]
  },
  {
   "cell_type": "code",
   "execution_count": null,
   "metadata": {},
   "outputs": [],
   "source": []
  },
  {
   "cell_type": "markdown",
   "metadata": {},
   "source": [
    "From the list above, we can highlight that by adding the point to the end of the integer, \n",
    "the number becomes a floating number (*line* 1). Also, the numbers of *lines* 3, 5 and 7 are floating, \n",
    "i.e., if we specify the exponent, it is not necessary to add the point.\n",
    "If we mix integer numbers with floating numbers, the result is the most general result, that is, a floating number.\n",
    "```python\n",
    "7. + 2\n",
    "9.0\n",
    "7 * 2.\n",
    "14.0\n",
    "```"
   ]
  },
  {
   "cell_type": "code",
   "execution_count": null,
   "metadata": {},
   "outputs": [],
   "source": []
  },
  {
   "cell_type": "markdown",
   "metadata": {},
   "source": [
    "__Below, perform the same calculations as in the previous cell but using variables__"
   ]
  },
  {
   "cell_type": "code",
   "execution_count": null,
   "metadata": {},
   "outputs": [],
   "source": []
  },
  {
   "cell_type": "markdown",
   "metadata": {},
   "source": [
    "## Predefined functions\n",
    "There are some predefined functions Python that can be used without the ```numpy``` or ```math``` modules.\n",
    "The ```int()``` function allows obtaining the integer part of a floating number:\n",
    "```python\n",
    "int(3.6494)\n",
    "3\n",
    "```\n",
    "It is important mentioning that ```int()``` provides the integer part of the number but it does not round the number.\n",
    "That action is carried out by ```round()```. Try those examples in the cell below:\n",
    "```python\n",
    "round(3.6494)\n",
    "round(3.6494,0)\n",
    "round(3.6494,1)\n",
    "round(3.6494,2)\n",
    "round(3.6494,3)\n",
    "```"
   ]
  },
  {
   "cell_type": "code",
   "execution_count": null,
   "metadata": {},
   "outputs": [],
   "source": []
  },
  {
   "cell_type": "markdown",
   "metadata": {},
   "source": [
    "On the other hand, if we want to transform an integer number into a floating number, \n",
    "the function to use is ```float( )```. For example,\n",
    "```python\n",
    "float(4)\n",
    "4.0\n",
    "```\n",
    "Another function that is predefined in Python is ```abs( )```, \n",
    "which returns the absolute value of a number, either integer or floating. For example:\n",
    "```python\n",
    "abs(-2)\n",
    "abs(2)\n",
    "abs(-2.)\n",
    "```"
   ]
  },
  {
   "cell_type": "code",
   "execution_count": null,
   "metadata": {},
   "outputs": [],
   "source": []
  },
  {
   "cell_type": "markdown",
   "metadata": {},
   "source": [
    "__Below, perform the same calculations as in the previous cell but using variables__"
   ]
  },
  {
   "cell_type": "code",
   "execution_count": null,
   "metadata": {},
   "outputs": [],
   "source": []
  },
  {
   "cell_type": "markdown",
   "metadata": {},
   "source": [
    "## Strings\n",
    "The type of data we have seen so far are numeric, but Python also admits $strings$. \n",
    "A <u>string</u> is a sequence of characters, that can include letters, numbers, punctuation marks, \n",
    "spaces, etc., enclosed between quotation marks (single or double). An example is:\n",
    "```python\n",
    "'hello world'\n",
    "```"
   ]
  },
  {
   "cell_type": "code",
   "execution_count": null,
   "metadata": {},
   "outputs": [],
   "source": []
  },
  {
   "cell_type": "markdown",
   "metadata": {},
   "source": [
    "In *line* 2 the first character is a blank space, so that the two strings do not stick together when we add \n",
    "them to *line* 3. The $+$ sign between two strings concatenates them, that is, the second string is added \n",
    "at the end of the first string. \n",
    "```python\n",
    "greeting1 = 'hello'\n",
    "greeting2 = ' world'\n",
    "greeting1 + greeting2\n",
    "```"
   ]
  },
  {
   "cell_type": "code",
   "execution_count": null,
   "metadata": {},
   "outputs": [],
   "source": []
  },
  {
   "cell_type": "markdown",
   "metadata": {},
   "source": [
    "Numbers can also be treated as strings\n",
    "```python\n",
    "num1 = '2'\n",
    "num2 = '2'\n",
    "num1 + num2\n",
    "```"
   ]
  },
  {
   "cell_type": "code",
   "execution_count": null,
   "metadata": {},
   "outputs": [],
   "source": []
  },
  {
   "cell_type": "markdown",
   "metadata": {},
   "source": [
    "If we want to transform numerical strings into numbers to make an addition, \n",
    "then we have to use the ```int( )``` function. Specifically:\n",
    "```python\n",
    "int(num1) + int(num2)\n",
    "```\n",
    "not\n",
    "```python\n",
    "int(num1 + num2)\n",
    "```"
   ]
  },
  {
   "cell_type": "code",
   "execution_count": null,
   "metadata": {},
   "outputs": [],
   "source": []
  },
  {
   "cell_type": "markdown",
   "metadata": {},
   "source": [
    "In the second case Python concatenates the two chains first and then transforms them into an integer. \n",
    "In the same way, we can transform a numeric string to a floating point number with ```float( )```.\n",
    "\n",
    "The inverse operation of number to string is also possible with the ```str( )``` function. For example:\n",
    "```python\n",
    "num1 = 2\n",
    "num2 = 2\n",
    "str(num1) + str(num2)\n",
    "```"
   ]
  },
  {
   "cell_type": "code",
   "execution_count": null,
   "metadata": {},
   "outputs": [],
   "source": []
  },
  {
   "cell_type": "markdown",
   "metadata": {},
   "source": [
    "__Using strings write a sentence with your name and age (each variable should be a word or number)__"
   ]
  },
  {
   "cell_type": "code",
   "execution_count": null,
   "metadata": {},
   "outputs": [],
   "source": []
  },
  {
   "cell_type": "markdown",
   "metadata": {},
   "source": [
    "__Make use of strings ```'2.5'``` y ```'3'``` and sum them as strings and as numbers.__"
   ]
  },
  {
   "cell_type": "code",
   "execution_count": null,
   "metadata": {},
   "outputs": [],
   "source": []
  },
  {
   "cell_type": "markdown",
   "metadata": {},
   "source": [
    "## Boolean data type\n",
    "Boolean operators act on Boolean variables and have the meaning indicated in the Table. \n",
    "\n",
    "\n",
    "| Operation | Operator | Meaning | Priority |\n",
    "|:-----------|:----------|:-------------|-----------|\n",
    "| ```not a``` | ```not``` | ```True``` if and only if ```a``` is false | 6 |\n",
    "| ```a and b``` | ```and``` | ```True``` if and only if ```a``` and ```b```are true | 7 |\n",
    "| ```a or b``` | ```or``` | ```True``` if ```a``` and/or ```b``` are true | 8 |\n",
    "\n",
    "On the other hand, to establish comparisons, we have the <u>comparison operators</u> that are shown in the Table. \n",
    "In this Table, it is indicated that in Python the equality is represented by  `== ' and that `=' is reserved \n",
    "for the assignment of variables.\n",
    "\n",
    "| Operation | Operator | Meaning | Priority |\n",
    "|:-----------|:----------|:-------------|-----------|\n",
    "|```a == b``` | ```==``` | ```a``` is equal to ```b``` | 5 |\n",
    "|```a != b``` | ```=!``` | ```a``` is not equal to ```b``` | 5 |\n",
    "|```a > b```  | ```>```  | ```a``` is greater than ```b``` | 5 |\n",
    "|```a < b```  | ```<```  | ```a``` is less than ```b``` | 5 |\n",
    "|```a >= b``` | ```>=``` | ```a``` is greater or equal than ```b``` | 5|\n",
    "|```a <= b``` | ```<=``` | ```a``` is less or equal than ```b``` | 5|\n",
    "\n",
    "In Python, it is possible to make several comparisons at the same time:\n",
    "```python\n",
    "2 != 5 > 3\n",
    "```"
   ]
  },
  {
   "cell_type": "code",
   "execution_count": null,
   "metadata": {},
   "outputs": [],
   "source": []
  },
  {
   "cell_type": "markdown",
   "metadata": {},
   "source": [
    "Boolean operators ```and``` and ```or``` start acting from the left side, whereas ```not``` starts from the right side.<br> \n",
    "The following example shows the way Boolean operators work:\n",
    "```python\n",
    "a = 1; b = 2; c = 3; d = 4\n",
    "a == 1 or b == 2 and d == 3 or c == 3\n",
    "True\n",
    "```\n",
    "In Py it is possible to write several sentences in a line separated by a semicolon ```;``` <br>\n",
    "How it works is described below:<br>\n",
    "Notice that we use the ```print()``` function so we can print the result at each step. \n",
    "Triple quatation marks ```'''``` are use to open and close the comments:\n",
    "\n",
    "```python\n",
    "a = 1; b = 2; c = 3; d = 3\n",
    "'''\n",
    "Resulting in:\n",
    "\n",
    "True or True and False or True\n",
    "\n",
    "Then we have the \"and\" operator which has more priority than \"or\"\n",
    "'''\n",
    "print(True and False)\n",
    "\n",
    "'''\n",
    "Resulting in: \n",
    "\n",
    "True or False or True\n",
    "\n",
    "Now we start from the left:\n",
    " '''\n",
    "print(True or False)\n",
    "'''\n",
    "Finally:\n",
    "''' \n",
    "print(True or True)\n",
    "```\n",
    "__Do the same for the operation below:__\n",
    "```python\n",
    "a == 2 or b == 3 and d == 3 or c == 3\n",
    "```"
   ]
  },
  {
   "cell_type": "code",
   "execution_count": null,
   "metadata": {},
   "outputs": [],
   "source": []
  },
  {
   "cell_type": "markdown",
   "metadata": {},
   "source": [
    "__Indicate the result of the following Boolean operations:__\n",
    "```python\n",
    "True or 5 < 3\n",
    "7 != 9 and not (False or 3 > 1)\n",
    "True == False\n",
    "True != False\n",
    "True >= True\n",
    "not False and True\n",
    "1 + 1 == 3 or 1 + 1 != 3 and not 1 + 1 > 3\n",
    "1 < 3 > 0 == 0\n",
    "1 < 3 > 0 == True\n",
    "1 + 7 != 7 == abs(-7)\n",
    "```\n",
    "__Perform each operation in a new cell and use the comments to indicate the order of operations. \n",
    "For instante:__\n",
    "```python\n",
    "True or 5 < 3   \n",
    "''' \n",
    "First 5<3 (Ans: False); then True or False (Ans: True)\n",
    "'''\n",
    "True\n",
    "```"
   ]
  },
  {
   "cell_type": "code",
   "execution_count": null,
   "metadata": {},
   "outputs": [],
   "source": []
  },
  {
   "cell_type": "code",
   "execution_count": null,
   "metadata": {},
   "outputs": [],
   "source": []
  }
 ],
 "metadata": {
  "kernelspec": {
   "display_name": "Python 3",
   "language": "python",
   "name": "python3"
  },
  "language_info": {
   "codemirror_mode": {
    "name": "ipython",
    "version": 3
   },
   "file_extension": ".py",
   "mimetype": "text/x-python",
   "name": "python",
   "nbconvert_exporter": "python",
   "pygments_lexer": "ipython3",
   "version": "3.7.4"
  }
 },
 "nbformat": 4,
 "nbformat_minor": 4
}
