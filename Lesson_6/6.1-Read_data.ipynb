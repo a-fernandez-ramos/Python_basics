{
 "cells": [
  {
   "cell_type": "markdown",
   "metadata": {},
   "source": [
    "# Reading data from files: ```loadtxt```\n",
    "Python has a fairly sophisticated system for reading and writing files, but here we will limit ourselves on how to read a set of numerical stored data from a file. One of the simplest and most versatile functions for data processing is ```loadtxt()```, which is part of ```Numpy```. The syntax of this function is the following:\n",
    "```python\n",
    "numpy.loadtxt(fname, dtype=<type 'float'>, comments='#',\n",
    "         delimiter=None, converters=None, skiprows=0, \n",
    "         usecols=None, unpack=False, ndmin=0)\n",
    "```\n"
   ]
  },
  {
   "cell_type": "markdown",
   "metadata": {},
   "source": [
    "Arguments of the ```loadtxt()``` function. The default value is indicated in parentheses:\n",
    "\n",
    "| Argument  | Description |\n",
    "|:-----------|:-------------|\n",
    "|```fname```      |The file from which the data are read |\n",
    "|```dtype```  |Type of data to be read (```float```)|\n",
    "|```comments``` |Comments start with ```'#'```|\n",
    "|```delimiter``` |Data spacing (blank spaces)|\n",
    "|```converters``` | Dictionary used to convert data (```None```)|\n",
    "|```skiprows``` |Skip rows (```None```)|\n",
    "|```usecols``` | Columns to read (all)|\n",
    "|```unpack``` |Unpack the data (```False```)|\n",
    "|```ndmin``` |Minimum number of dimensions (zero)|"
   ]
  },
  {
   "cell_type": "markdown",
   "metadata": {},
   "source": []
  },
  {
   "cell_type": "markdown",
   "metadata": {},
   "source": [
    "As an examplo upload file ```data.txt``` in the Notebook and execute the following program:\n",
    "```python\n",
    "import numpy as np\n",
    "x, y = np.loadtxt('data.txt' , usecols = (1,2), unpack = True)\n",
    "print(x)\n",
    "print(y)\n",
    "```"
   ]
  },
  {
   "cell_type": "code",
   "execution_count": null,
   "metadata": {},
   "outputs": [],
   "source": []
  },
  {
   "cell_type": "markdown",
   "metadata": {},
   "source": [
    "The result is two lists; the first with elements ```[0. 20. 50.]``` and the second with elements ```[2.62 3.774 5.556]```. The argument ```usecols = (1,2)``` indicates that the function reads *columns 1* and *2* ignoring *column 0*. Remember that Python starts counting at zero.  \n",
    "\n",
    "The argument ```unpack = True``` ensures that the first column corresponds to the object named $x$ and the second column corresponds to the object named $y$. Both $x$ and $y$ are lists and contain a series of ```float``` numbers that can be used later by the program."
   ]
  },
  {
   "cell_type": "code",
   "execution_count": null,
   "metadata": {},
   "outputs": [],
   "source": []
  },
  {
   "cell_type": "markdown",
   "metadata": {},
   "source": [
    "Notice that ```loadtxt()``` can read files from **Excel** if the files from the later are saved with the <u>.csv format</u>. For instance, to read data from the file called $data.csv$, we first upload the data in the Notebook and then we use the following sentence:\n",
    "```python\n",
    "import numpy as np\n",
    "x, y = np.loadtxt('data.csv' , delimiter = ',', usecols = (1,2), unpack = True)\n",
    "print(x)\n",
    "print(y)\n",
    "```"
   ]
  },
  {
   "cell_type": "code",
   "execution_count": null,
   "metadata": {},
   "outputs": [],
   "source": []
  }
 ],
 "metadata": {
  "kernelspec": {
   "display_name": "Python 3",
   "language": "python",
   "name": "python3"
  },
  "language_info": {
   "codemirror_mode": {
    "name": "ipython",
    "version": 3
   },
   "file_extension": ".py",
   "mimetype": "text/x-python",
   "name": "python",
   "nbconvert_exporter": "python",
   "pygments_lexer": "ipython3",
   "version": "3.7.4"
  }
 },
 "nbformat": 4,
 "nbformat_minor": 4
}
