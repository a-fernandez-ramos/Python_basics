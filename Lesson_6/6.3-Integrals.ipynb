{
 "cells": [
  {
   "cell_type": "markdown",
   "metadata": {},
   "source": [
    "# Integrals\n",
    "The trapezoidal rule (https://en.wikipedia.org/wiki/Trapezoidal_rule) allows the integration of a given function $f(x)$ in a given $[a,b]$ interval. To apply the method we need to know the value of the function at a given number $m$ of points. The trapezoidal rule equation is given by:\n",
    "\n",
    "\\begin{equation}\n",
    "\\int_{a}^{b}f(x)dx = \\left( \\frac{b-a}{m} \\right) \\left\\lbrace \\frac{f(a)+f(b)}{2}+\\sum_{k=1}^{m-1}f \\left(a+k\\frac{b-a}{m}   \\right)        \\right\\rbrace\n",
    "\\end{equation}\n",
    "\n",
    "```python\n",
    "import numpy as np\n",
    "def trapz(f,a,b,m=50):\n",
    "    '''\n",
    "    Integral using the trapezoidal rule\n",
    "    '''\n",
    "    x = np.linspace(a,b,m+1) # m+1 points make m subintervals\n",
    "    y = f(x)\n",
    "    y_right = y[1:] # right endpoint\n",
    "    y_left = y[:-1] # left endpoint\n",
    "    dx = (b - a) / m\n",
    "    T = (dx/2) * np.sum(y_right + y_left)\n",
    "    return T\n",
    "```\n",
    "To calculate the integral of $sin(x)$ in the interval $\\left[0,\\frac{\\pi}{2}\\right]$ we call the function:\n",
    "\n",
    "```python\n",
    "I1=trapz(np.sin,0,np.pi/2,1000)\n",
    "print ('The integral is = ',I1)\n",
    "```\n",
    "where ```np.sin``` es the funtion, ```0```, ```np.pi/2``` are the integration limits and ```1000``` is the number of subintervals( the value of $m$ in the equation).<br>"
   ]
  },
  {
   "cell_type": "markdown",
   "metadata": {},
   "source": [
    "Ex. 1: **Calculate the integral of $cos(x)sin(x)$ in the interval $[0,\\pi]$.**"
   ]
  },
  {
   "cell_type": "code",
   "execution_count": null,
   "metadata": {},
   "outputs": [],
   "source": []
  },
  {
   "cell_type": "markdown",
   "metadata": {},
   "source": [
    "Ex. 2: **Calculate the integral of $e^{-x^2}$ in the interval $[-10,10]$.**"
   ]
  },
  {
   "cell_type": "code",
   "execution_count": null,
   "metadata": {},
   "outputs": [],
   "source": []
  },
  {
   "cell_type": "markdown",
   "metadata": {},
   "source": [
    "Ex. 3: **Use the trapezoidal rule implemented in Numpy (https://docs.scipy.org/doc/numpy/reference/generated/numpy.trapz.html) to solve exercises 1 and 2.**"
   ]
  },
  {
   "cell_type": "code",
   "execution_count": null,
   "metadata": {},
   "outputs": [],
   "source": []
  },
  {
   "cell_type": "code",
   "execution_count": null,
   "metadata": {},
   "outputs": [],
   "source": []
  },
  {
   "cell_type": "markdown",
   "metadata": {},
   "source": [
    "Function ```trapz``` can be used to evaluate the square of __the wave function of a particle in a box__<br>\n",
    "\n",
    "The particle in a box is a simple model used in Quantum Mechanics. The wave function of that system is:\n",
    "\n",
    "\\begin{equation}\n",
    "f(x) = \\sqrt{\\frac{2}{L}}\\sin(n\\pi x/L)\n",
    "\\end{equation}\n",
    "\n",
    "where $L$ es the length of the box and $n$ is a quantum number ($n=1,2,3,\\ldots$). The following rule applies:\n",
    "\\begin{equation}\n",
    "\\int_{0}^{L} [f(x)]^{2} dx = 1\n",
    "\\end{equation}\n",
    "The following code evaluates such an integral:\n",
    "```python\n",
    "import numpy as np\n",
    "def f(x):\n",
    "    f = 2/L * np.sin( n * np.pi * x / L) ** 2\n",
    "    return f\n",
    "L = float(input(\"Length of the box (arbitrary units): \"))\n",
    "n = int(input(\"Quantum number: \"))\n",
    "m = int(input(\"Integration steps (m): \"))\n",
    "print(trapz(f,0,L,m))\n",
    "```\n",
    "__Try the code with several valores of $L$, $n$ and $m$.__"
   ]
  },
  {
   "cell_type": "code",
   "execution_count": null,
   "metadata": {},
   "outputs": [],
   "source": []
  },
  {
   "cell_type": "code",
   "execution_count": null,
   "metadata": {},
   "outputs": [],
   "source": []
  },
  {
   "cell_type": "code",
   "execution_count": null,
   "metadata": {},
   "outputs": [],
   "source": []
  },
  {
   "cell_type": "markdown",
   "metadata": {},
   "source": [
    "Ex. 4: __Modify the program of the previous trial to calculate the integral between $0.25L$ and $0.75L$ for ($n = 1$) and ($n = 2$). Notice that the integral is independent of the $L$ value.__"
   ]
  },
  {
   "cell_type": "code",
   "execution_count": null,
   "metadata": {},
   "outputs": [],
   "source": [
    "# Write here the program to calculate the integral\n",
    "# using the trapezoidal rule for n=1"
   ]
  },
  {
   "cell_type": "code",
   "execution_count": null,
   "metadata": {},
   "outputs": [],
   "source": [
    "# Write here the program to calculate the integral\n",
    "# using the trapezoidal rule for n=2"
   ]
  },
  {
   "cell_type": "markdown",
   "metadata": {},
   "source": [
    "Ex. 5: __Calculate now the mean values of $x$ and $x^2$:__\n",
    "\n",
    "\\begin{equation}\n",
    "<x>=\\int_{0}^{L} xf^{2} dx=\\frac{L}{2}\n",
    "\\end{equation}\n",
    "    \n",
    "\\begin{equation}\n",
    "<x^{2}>=\\int_{0}^{L} x^{2}f^{2} dx=L^{2}\\left( \\frac{1}{3} - \\frac{1}{2n^{2}\\pi^{2}}\\right)\n",
    "\\end{equation}\n",
    "\n",
    "__Verify your results by comparing them with the exact value.__"
   ]
  },
  {
   "cell_type": "code",
   "execution_count": 16,
   "metadata": {},
   "outputs": [],
   "source": [
    "# Write here the program for the mean value of x\n",
    "# using the trapezoidal rule"
   ]
  },
  {
   "cell_type": "code",
   "execution_count": null,
   "metadata": {},
   "outputs": [],
   "source": [
    "# Write here the program for the mean value of x**2\n",
    "# using the trapezoidal rule "
   ]
  },
  {
   "cell_type": "markdown",
   "metadata": {},
   "source": [
    "Ex. 6: **Evaluate the integrals of exercise 5 using the ```scipy.integrate``` library of Python  (https://docs.scipy.org/doc/scipy/reference/tutorial/integrate.html). Use the trapezoidal and Simpson's rule to calculate the integrals.**"
   ]
  },
  {
   "cell_type": "code",
   "execution_count": 31,
   "metadata": {},
   "outputs": [],
   "source": [
    "# Write here the program for the mean value of x\n",
    "# using the trapezoidal rule of scipy.integrate"
   ]
  },
  {
   "cell_type": "code",
   "execution_count": null,
   "metadata": {},
   "outputs": [],
   "source": [
    "# Write here the program for the mean value of x\n",
    "# using Simpson's rule of scipy.integrate"
   ]
  },
  {
   "cell_type": "code",
   "execution_count": null,
   "metadata": {},
   "outputs": [],
   "source": [
    "# Write here the program for the mean value of x**2\n",
    "# using the trapezoidal rule of scipy.integrate"
   ]
  },
  {
   "cell_type": "code",
   "execution_count": null,
   "metadata": {},
   "outputs": [],
   "source": [
    "# Write here the program for the mean value of x**2\n",
    "# using Simpson's rule of scipy.integrate"
   ]
  }
 ],
 "metadata": {
  "kernelspec": {
   "display_name": "Python 3",
   "language": "python",
   "name": "python3"
  },
  "language_info": {
   "codemirror_mode": {
    "name": "ipython",
    "version": 3
   },
   "file_extension": ".py",
   "mimetype": "text/x-python",
   "name": "python",
   "nbconvert_exporter": "python",
   "pygments_lexer": "ipython3",
   "version": "3.7.4"
  }
 },
 "nbformat": 4,
 "nbformat_minor": 4
}
