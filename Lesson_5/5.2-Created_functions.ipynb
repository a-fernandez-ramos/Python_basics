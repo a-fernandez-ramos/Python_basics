{
 "cells": [
  {
   "cell_type": "markdown",
   "metadata": {},
   "source": [
    "## Creating your own functions\n",
    "In addition to the already predefined functions and the functions that can be imported from various libraries, we can generate our own functions. \n",
    "\n",
    "The general syntax for creating a function in Python is as follows:\n",
    "```python\n",
    "def fun_name(arguments):\n",
    "       action 1\n",
    "       action 2\n",
    "       ...\n",
    "       action n\n",
    "    return result(s)\n",
    "```\n",
    "The function is declared using ```def()``` and can contain zero, one or more arguments. If the function contains several arguments, these have to be separated by commas. The name of the function is $fun\\_name$ and it should follow the same rules as the identifiers.\n",
    "\n",
    "Inside the function, different actions are performed, which are written with <u>indentation</u>, and  normally involve operations associated with the input arguments. \n",
    "\n",
    "At the end, the function may not return results or may return one or several results. The results are returned using the ```return``` statement. \n",
    "\n",
    "If the function does not pass through ```return```, it returns the result ```None```.\n"
   ]
  },
  {
   "cell_type": "markdown",
   "metadata": {},
   "source": [
    "As an example, we can create a function that calculates the length of the hypotenuse of a right triangle from the lengths of the other two sides:\n",
    "```python\n",
    "def hypotenuse(side1, side2):\n",
    "    hypoten2 = side1**2 + side2**2\n",
    "    hypoten = hypoten2 ** 0.5\n",
    "    return hypoten\n",
    "```"
   ]
  },
  {
   "cell_type": "code",
   "execution_count": null,
   "metadata": {},
   "outputs": [],
   "source": []
  },
  {
   "cell_type": "markdown",
   "metadata": {},
   "source": [
    "In this example, the name of the function is $hypotenuse()$ and accepts two arguments, which are the lengths of the other two sides of the triangle, $side1$ and $side2$. After performing a couple of actions on *lines 2* and *3*, the final result is returned in *line 4*. For the function to be executed we need to <u>call it</u> or <u>invoke it</u>. Below are shown examples of calls to the $hypotenuse()$ function:\n",
    "```python\n",
    "print(hypotenuse(1.0,1.0))\n",
    "print(hypotenuse(1.0,2.0))\n",
    "hypoten1 = hypotenuse(4.0,3.0)\n",
    "print(hypoten1)\n",
    "```\n",
    "In *lines 1* and *2*, function $hypotenuse()$ is called and the result is printed, whereas in *line 3* the result of the execution of the function is assigned to the object $hypothen1$, which it is printed in the *line 4*.\n",
    "\n",
    "<u>Notice that the argument passed to the function is not restricted to a float number, it can be an integer, a string, a list, a tuple or a dictionary.<u/>\n"
   ]
  },
  {
   "cell_type": "markdown",
   "metadata": {},
   "source": [
    "Ex. 1: **Create a function called $root$ that calculates the square root of a number** "
   ]
  },
  {
   "cell_type": "code",
   "execution_count": null,
   "metadata": {},
   "outputs": [],
   "source": []
  },
  {
   "cell_type": "markdown",
   "metadata": {},
   "source": [
    "Ex. 2: **Call your function $root$ inside $hypotenuse$ instead of ```hypoten = hypoten2 ** 0.5``` with sides 3.0 and 4.0 and print the result**"
   ]
  },
  {
   "cell_type": "code",
   "execution_count": null,
   "metadata": {},
   "outputs": [],
   "source": []
  },
  {
   "cell_type": "markdown",
   "metadata": {},
   "source": [
    "### Optional arguments\n",
    "\n",
    "Function $hypotenuse()$ is a function  with two arguments, whose values should be supplied in order not to generate an error. However, it is also possible to define <u>optional arguments</u> with default values. Function $hypotenuse()$ could be defined using default values:\n",
    "```python\n",
    "def hypotenuse(side1 = 1.0, side2 = 1.0):\n",
    "    hypoten2 = side1**2 + side2**2\n",
    "    hypoten = hypoten2 ** 0.5\n",
    "    return hypoten\n",
    "```\n",
    "In this case, if no value is provided for the arguments the function will assign ```side1 = 1.0``` and ```side2 = 1.0```\n",
    "\n",
    "In the cell below you can see the difference between \n",
    "```python\n",
    "print (hypotenuse())\n",
    "```\n",
    "and\n",
    "```python\n",
    "print (hypotenuse(4.0,3.0))\n",
    "```"
   ]
  },
  {
   "cell_type": "code",
   "execution_count": null,
   "metadata": {},
   "outputs": [],
   "source": []
  },
  {
   "cell_type": "markdown",
   "metadata": {},
   "source": [
    "It is important to indicate that arguments without default values (sometimes also called <u>positional arguments</u>) **always have to be defined before the optional arguments.** Thus, the function defined as:\n",
    "```python\n",
    "def hypotenuse(side1, side2 = 1.0):\n",
    "```\n",
    "is correct since $side1$ is the positional argument, but\n",
    "```python\n",
    "def hypotenuse(side1 = 1.0, side2):\n",
    "```\n",
    "is incorrect."
   ]
  },
  {
   "cell_type": "markdown",
   "metadata": {},
   "source": [
    "Ex. 3: **Modify your $root$ function of $Ex. 1$ to be able to calculate any root (cubic, quartic, etc,), but that by default calculates the square root.**"
   ]
  },
  {
   "cell_type": "code",
   "execution_count": null,
   "metadata": {},
   "outputs": [],
   "source": []
  },
  {
   "cell_type": "markdown",
   "metadata": {},
   "source": [
    "Ex. 4: **Execute again $Ex. 2$ but with your function created in $Ex. 3$.**"
   ]
  },
  {
   "cell_type": "code",
   "execution_count": null,
   "metadata": {},
   "outputs": [],
   "source": []
  },
  {
   "cell_type": "markdown",
   "metadata": {},
   "source": [
    "### Passing multiple arguments to a function\n",
    "Python allows the <u>passage of several arguments as tuple.</u> To do this a star ```*``` should be put in front of the argument definition, i.e.,\n",
    "```python\n",
    "sides = (2.0, 2.0)\n",
    "print (hypotenuse(*sides))\n",
    "```\n",
    "\n",
    "It also allows <u>to pass multiple arguments that have been defined as a dictionary,</u> in the style ```{key: value}```. In this case, a double star ```**``` should be put in front of the argument definition.\n",
    "```python\n",
    "sides = {'side1': 2.0, 'side2': 5.0}\n",
    "print (hypotenuse(**sides))\n",
    "```\n",
    "The previous result is the same as if we do:\n",
    "```python\n",
    "sides = {'side2': 5.0, 'side1': 2.0}\n",
    "print (hypotenuse(**sides))\n",
    "```\n"
   ]
  },
  {
   "cell_type": "markdown",
   "metadata": {},
   "source": [
    "Ex. 5: **Function ```sorted()``` may have up to three arguments. Make a search on the internet to discover the use of this three arguments. Use them with the list ```['hola','bye','good_morning','hi','chao']``` to sort the words: (a) in alphabetic order, (b) in reverse alphabetic order (c) from the shortest to the longest word, and (d) from the longest to the shortest word.**"
   ]
  },
  {
   "cell_type": "code",
   "execution_count": null,
   "metadata": {},
   "outputs": [],
   "source": []
  },
  {
   "cell_type": "markdown",
   "metadata": {},
   "source": [
    "### Local variables\n",
    "The following program calculates the dot product of two vectors in $\\mathbb{R}^2$ space:\n",
    "```python\n",
    "def ask_vectors( ):\n",
    "    vAx = float(input(\"x coordinate of vA: \"))\n",
    "    vAy = float(input(\"y coordinate of vA: \"))\n",
    "    vBx = float(input(\"x coordinate of vB: \"))\n",
    "    vBy = float(input(\"y coordinate of vB: \"))\n",
    "    return [vAx,vAy], [vBx,vBy]\n",
    "def dot_prod(vA,vB):\n",
    "    product = vA[0]*vB[0] + vA[1]*vB[1]\n",
    "    return product\n",
    "vA , vB = ask_vectors( )\n",
    "print (\"The first vector is:\", vA)\n",
    "print (\"The second vector is:\", vB)\n",
    "print (\"The dot product is:\", dot_prod(vA,vB))\n",
    "```\n"
   ]
  },
  {
   "cell_type": "code",
   "execution_count": null,
   "metadata": {},
   "outputs": [],
   "source": []
  },
  {
   "cell_type": "markdown",
   "metadata": {},
   "source": [
    "In this case, two functions are used, function $ask\\_vectors()$ asks the user for the components of the two vectors and returns the results in two lists. These two lists are created by invoking the function in *line 10* of the program. The lists are called $vA$ and $vB$. *Line 13* prints the result by calling the $dot\\_prod()$ function. \n",
    "\n",
    "It is important to realize that the arguments of the function in *line 7* are treated as <u>local variables</u> and even if they are modified within the function, outside the function they still have the same value. In fact, the arguments of *line 7* (where the function is declared) and *line 13* (where the function is called) do not have the same name. The program works the same if we change function $dot\\_prod()$ by the one indicated below:\n",
    "```python\n",
    "def dot_prod(v1,v2):\n",
    "    product = v1[0]*v2[0] + v1[1]*v2[1]\n",
    "    return product\n",
    "```"
   ]
  },
  {
   "cell_type": "code",
   "execution_count": 13,
   "metadata": {},
   "outputs": [
    {
     "data": {
      "text/plain": [
       "3.0"
      ]
     },
     "execution_count": 13,
     "metadata": {},
     "output_type": "execute_result"
    }
   ],
   "source": [
    "round(3.1415,0)"
   ]
  },
  {
   "cell_type": "markdown",
   "metadata": {},
   "source": [
    "Another example that indicates the way in which \\py deals with variables within the functions is the following: \n",
    "```python\n",
    "def salute(saludo):\n",
    "    saludo = 'Hola'\n",
    "    print(saludo)\n",
    "    return\n",
    "saludo = 'Bye'\n",
    "salute(saludo)\n",
    "print(saludo)\n",
    "```\n",
    "The program prints the following output:\n",
    "```python\n",
    "Hola\n",
    "Bye\n",
    "```\n",
    "*Line 5* of the program assigns to string 'Bye' the variable $saludo$, but then the function $salute()$ is called and assigns to variable $saludo$ the string 'Hola'. When $saludo$ is printed inside the function the result is 'Hola', but outside the function the result is still 'Bye'. \n",
    "\n",
    "It does not matter that we have changed the assignment within the function, because the variable $saludo$, like **all variables within the functions, are local and the changes have no effect on the variables that have the same identifier (they have the same name.} outside the environment of the function.**"
   ]
  },
  {
   "cell_type": "code",
   "execution_count": null,
   "metadata": {},
   "outputs": [],
   "source": []
  },
  {
   "cell_type": "markdown",
   "metadata": {},
   "source": [
    "The previous examples show that the use of functions has several advantages:\n",
    "\n",
    "1. We can name a group of sentences that perform a specific action.\n",
    "2. We make programs that are much easier to read, understand and correct.\n",
    "3. We avoid repetitions of the code in several parts of the program.\n"
   ]
  },
  {
   "cell_type": "markdown",
   "metadata": {},
   "source": [
    "Ex. 6: __Make a program consisting of three functions, one that reads the data, another that calculates the arithmetic mean of the data and a third one that calculates the geometric mean of the data. The program must allow choosing the type of mean to be calculated, specifically, only the arithmetic mean, only the geometric mean or both of them.__"
   ]
  },
  {
   "cell_type": "code",
   "execution_count": null,
   "metadata": {},
   "outputs": [],
   "source": []
  },
  {
   "cell_type": "markdown",
   "metadata": {},
   "source": [
    "Ex. 7: **Build a function that calculates the determinant of a $2\\times2$ matrix. Use the function to calculate the determinant of the ```[[1.,2.],[3.,4.]]``` matrix.**"
   ]
  },
  {
   "cell_type": "code",
   "execution_count": null,
   "metadata": {},
   "outputs": [],
   "source": []
  },
  {
   "cell_type": "markdown",
   "metadata": {},
   "source": [
    "Ex. 8: __Build a function that calculates the determinant of a $3\\times3$ matrix. If the matrix is ```[[1,2,3],[2,4,6],[1,1,1]]```, calculate its determinant.__"
   ]
  },
  {
   "cell_type": "code",
   "execution_count": null,
   "metadata": {},
   "outputs": [],
   "source": []
  },
  {
   "cell_type": "markdown",
   "metadata": {},
   "source": [
    "A program that calculates the module of a vector in $\\mathbb{R}^2$ is:\n",
    "```python\n",
    "from math import sqrt\n",
    "def ask_vector():\n",
    "    v = []\n",
    "    for i in range(2):\n",
    "        v.append(float(input(\"Coordinate: \")))\n",
    "    return v\n",
    "def module(v):\n",
    "    module = sqrt(v[0] ** 2 + v[1] ** 2)\n",
    "    return module\n",
    "v = ask_vector()\n",
    "print(\"The vector is:\", v)\n",
    "print(\"The module of the vector is:\", module(v))\n",
    "```"
   ]
  },
  {
   "cell_type": "code",
   "execution_count": null,
   "metadata": {},
   "outputs": [],
   "source": []
  },
  {
   "cell_type": "markdown",
   "metadata": {},
   "source": [
    "Ex. 9: **Build a function that calculates the module of a vector in $\\mathbb{R}^3$.**"
   ]
  },
  {
   "cell_type": "code",
   "execution_count": null,
   "metadata": {},
   "outputs": [],
   "source": []
  },
  {
   "cell_type": "markdown",
   "metadata": {},
   "source": [
    "Ex. 10: **Build a function that calculates the module of a vector in $\\mathbb{R}^n$.**"
   ]
  },
  {
   "cell_type": "code",
   "execution_count": null,
   "metadata": {},
   "outputs": [],
   "source": []
  },
  {
   "cell_type": "markdown",
   "metadata": {},
   "source": [
    "Ex. 11: **Build a function that calculates the cross product of a vector in $\\mathbb{R}^3$.**"
   ]
  },
  {
   "cell_type": "code",
   "execution_count": null,
   "metadata": {},
   "outputs": [],
   "source": []
  }
 ],
 "metadata": {
  "kernelspec": {
   "display_name": "Python 3",
   "language": "python",
   "name": "python3"
  },
  "language_info": {
   "codemirror_mode": {
    "name": "ipython",
    "version": 3
   },
   "file_extension": ".py",
   "mimetype": "text/x-python",
   "name": "python",
   "nbconvert_exporter": "python",
   "pygments_lexer": "ipython3",
   "version": "3.7.4"
  }
 },
 "nbformat": 4,
 "nbformat_minor": 4
}
