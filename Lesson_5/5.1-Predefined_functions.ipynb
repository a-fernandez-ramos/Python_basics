{
 "cells": [
  {
   "cell_type": "markdown",
   "metadata": {},
   "source": [
    "# Functions\n",
    "In programming, a function (or method) is a sequence of statements that executes a desired operation and has a name. An example is the ```sqrt()``` from the ```math``` module:\n",
    "```python\n",
    "from numpy import sqrt\n",
    "number = 4.5\n",
    "sqroot   = sqrt(4.5)\n",
    "print ('The square root of ', number, 'is', sqroot)\n",
    "```\n",
    "In the $call$ to the function (*line 3*), the number in parentheses is what is known as <u>argument</u> or <u>parameter</u> of the function. A function may not have arguments, may have one argument (as above) or may have several argumenets.\n",
    "\n",
    "The variable that calls the function is called <u>object</u>, which in this case is $sqroot$ and it returns the square root of its argument."
   ]
  },
  {
   "cell_type": "code",
   "execution_count": null,
   "metadata": {},
   "outputs": [],
   "source": []
  },
  {
   "cell_type": "markdown",
   "metadata": {},
   "source": [
    "## Some functions predefined in Python\n",
    "\n",
    "Inside Python there are several functions which are already predefined. Examples of them are:\n",
    "\n",
    "\n",
    "1. ```type()``` displays the type of variable of the argument:\n",
    "```python\n",
    "type(4.4)\n",
    "type({1:45, 5:77})\n",
    "```"
   ]
  },
  {
   "cell_type": "code",
   "execution_count": null,
   "metadata": {},
   "outputs": [],
   "source": []
  },
  {
   "cell_type": "markdown",
   "metadata": {},
   "source": [
    "2. ```int()``` and ```float()``` generate integers and floats, respectively. For example:\n",
    "```python\n",
    "print(int(\"3\"))\n",
    "print(int(4.99))\n",
    "print(float(\"3\") + float(1))\n",
    "```"
   ]
  },
  {
   "cell_type": "code",
   "execution_count": null,
   "metadata": {},
   "outputs": [],
   "source": []
  },
  {
   "cell_type": "markdown",
   "metadata": {},
   "source": [
    "3. ```abs()``` returns the absolute value of a number:\n",
    "```python\n",
    "print(abs(3.3))\n",
    "print(abs(-9.2))\n",
    "```"
   ]
  },
  {
   "cell_type": "code",
   "execution_count": null,
   "metadata": {},
   "outputs": [],
   "source": []
  },
  {
   "cell_type": "markdown",
   "metadata": {},
   "source": [
    "4. ```list()``` and ```tuple()``` generate lists from tuples and vice versa:\n",
    "```python\n",
    "my_list = [1,2,3]\n",
    "my_tuple = (1,2,3)\n",
    "print(list(my_tuple))\n",
    "print(tuple(my_list))\n",
    "```"
   ]
  },
  {
   "cell_type": "code",
   "execution_count": null,
   "metadata": {},
   "outputs": [],
   "source": []
  },
  {
   "cell_type": "markdown",
   "metadata": {},
   "source": [
    "5. ```len()``` returns the number of characters in a string or the number of items in a list, tuple or dictionary:\n",
    "```python\n",
    "my_string = \"hoy voy a comer cocido\"\n",
    "my_tuple = (3.3,9.9,1.0,7.45)\n",
    "print(len(my_string))\n",
    "print(len(my_tuple))\n",
    "```"
   ]
  },
  {
   "cell_type": "code",
   "execution_count": null,
   "metadata": {},
   "outputs": [],
   "source": []
  },
  {
   "cell_type": "markdown",
   "metadata": {},
   "source": [
    "6. ```min()``` and ```max()``` return the minimum and maximum value of a list or of a tuple:\n",
    "```python\n",
    "my_list = [99.0, -45.1, 88.1, -19.2, 42.0]\n",
    "print(min(my_list))\n",
    "print(max(my_list))\n",
    "```"
   ]
  },
  {
   "cell_type": "code",
   "execution_count": null,
   "metadata": {},
   "outputs": [],
   "source": []
  },
  {
   "cell_type": "markdown",
   "metadata": {},
   "source": [
    "7. ```sum()``` adds in a single line the elements of a list or a tuple:\n",
    "```python\n",
    "my_list = [99.0, -45.1, 88.1, -19.2, 42.0]\n",
    "sum(my_list)\n",
    "```"
   ]
  },
  {
   "cell_type": "code",
   "execution_count": null,
   "metadata": {},
   "outputs": [],
   "source": []
  },
  {
   "cell_type": "markdown",
   "metadata": {},
   "source": [
    "8. ```sorted()``` returns, **as a list**, the sorted elements of a list or a tuple:\n",
    "```python\n",
    "tup = (1,3,5,2,4,6)\n",
    "print(sorted(tup))\n",
    "words = ['dos','ondas','si','no']\n",
    "print(sorted(words))\n",
    "```"
   ]
  },
  {
   "cell_type": "code",
   "execution_count": null,
   "metadata": {},
   "outputs": [],
   "source": []
  },
  {
   "cell_type": "markdown",
   "metadata": {},
   "source": [
    "__Make a program in which you enter a list of numbers by keyboard (see Notebook on Lists). The program should use all functions displayed in items 1 to 8 in this Lesson.__"
   ]
  },
  {
   "cell_type": "code",
   "execution_count": null,
   "metadata": {},
   "outputs": [],
   "source": []
  }
 ],
 "metadata": {
  "kernelspec": {
   "display_name": "Python 3",
   "language": "python",
   "name": "python3"
  },
  "language_info": {
   "codemirror_mode": {
    "name": "ipython",
    "version": 3
   },
   "file_extension": ".py",
   "mimetype": "text/x-python",
   "name": "python",
   "nbconvert_exporter": "python",
   "pygments_lexer": "ipython3",
   "version": "3.7.4"
  }
 },
 "nbformat": 4,
 "nbformat_minor": 4
}
